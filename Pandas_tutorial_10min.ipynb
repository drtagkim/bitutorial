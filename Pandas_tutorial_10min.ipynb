{
 "cells": [
  {
   "cell_type": "markdown",
   "metadata": {},
   "source": [
    "Pandas 사용법에 대해서 알아보겠습니다. 일단 pandas와 numpy를 import 합니다."
   ]
  },
  {
   "cell_type": "code",
   "execution_count": 4,
   "metadata": {
    "collapsed": true
   },
   "outputs": [],
   "source": [
    "import pandas as pd\n",
    "import numpy as np"
   ]
  },
  {
   "cell_type": "markdown",
   "metadata": {},
   "source": [
    "Series()는 list 데이터를 하나의 벡터로 만들어줍니다."
   ]
  },
  {
   "cell_type": "code",
   "execution_count": 5,
   "metadata": {
    "collapsed": false
   },
   "outputs": [],
   "source": [
    " s = pd.Series([1,3,5,np.nan,6,8])"
   ]
  },
  {
   "cell_type": "code",
   "execution_count": 6,
   "metadata": {
    "collapsed": false
   },
   "outputs": [
    {
     "data": {
      "text/plain": [
       "0    1.0\n",
       "1    3.0\n",
       "2    5.0\n",
       "3    NaN\n",
       "4    6.0\n",
       "5    8.0\n",
       "dtype: float64"
      ]
     },
     "execution_count": 6,
     "metadata": {},
     "output_type": "execute_result"
    }
   ],
   "source": [
    "s"
   ]
  },
  {
   "cell_type": "markdown",
   "metadata": {},
   "source": [
    "date_range()함수를 써서 2013년 1월 1일부터(포함하여) 6개의 일련 날짜를 만듭니다."
   ]
  },
  {
   "cell_type": "code",
   "execution_count": 7,
   "metadata": {
    "collapsed": true
   },
   "outputs": [],
   "source": [
    " dates = pd.date_range('20130101', periods=6)"
   ]
  },
  {
   "cell_type": "code",
   "execution_count": 8,
   "metadata": {
    "collapsed": false
   },
   "outputs": [
    {
     "data": {
      "text/plain": [
       "DatetimeIndex(['2013-01-01', '2013-01-02', '2013-01-03', '2013-01-04',\n",
       "               '2013-01-05', '2013-01-06'],\n",
       "              dtype='datetime64[ns]', freq='D')"
      ]
     },
     "execution_count": 8,
     "metadata": {},
     "output_type": "execute_result"
    }
   ],
   "source": [
    "dates"
   ]
  },
  {
   "cell_type": "markdown",
   "metadata": {},
   "source": [
    "위에서 만든 dates를 row의 index로 하고 columns의 인덱스를 A B C D로 하는 6x4 데이터를 만듭니다. 데이터의 값은 randn(6,4)로 합니다."
   ]
  },
  {
   "cell_type": "code",
   "execution_count": 10,
   "metadata": {
    "collapsed": true
   },
   "outputs": [],
   "source": [
    "df = pd.DataFrame(np.random.randn(6,4), index=dates, columns=list('ABCD'))"
   ]
  },
  {
   "cell_type": "code",
   "execution_count": 11,
   "metadata": {
    "collapsed": false,
    "scrolled": true
   },
   "outputs": [
    {
     "data": {
      "text/html": [
       "<div>\n",
       "<table border=\"1\" class=\"dataframe\">\n",
       "  <thead>\n",
       "    <tr style=\"text-align: right;\">\n",
       "      <th></th>\n",
       "      <th>A</th>\n",
       "      <th>B</th>\n",
       "      <th>C</th>\n",
       "      <th>D</th>\n",
       "    </tr>\n",
       "  </thead>\n",
       "  <tbody>\n",
       "    <tr>\n",
       "      <th>2013-01-01</th>\n",
       "      <td>0.318684</td>\n",
       "      <td>0.767959</td>\n",
       "      <td>1.479689</td>\n",
       "      <td>-0.336243</td>\n",
       "    </tr>\n",
       "    <tr>\n",
       "      <th>2013-01-02</th>\n",
       "      <td>0.442559</td>\n",
       "      <td>-1.021652</td>\n",
       "      <td>-0.178984</td>\n",
       "      <td>-0.589534</td>\n",
       "    </tr>\n",
       "    <tr>\n",
       "      <th>2013-01-03</th>\n",
       "      <td>0.324837</td>\n",
       "      <td>-0.475097</td>\n",
       "      <td>-2.147350</td>\n",
       "      <td>0.587486</td>\n",
       "    </tr>\n",
       "    <tr>\n",
       "      <th>2013-01-04</th>\n",
       "      <td>-0.702213</td>\n",
       "      <td>0.492265</td>\n",
       "      <td>-0.508335</td>\n",
       "      <td>-1.098786</td>\n",
       "    </tr>\n",
       "    <tr>\n",
       "      <th>2013-01-05</th>\n",
       "      <td>-1.239646</td>\n",
       "      <td>-0.506329</td>\n",
       "      <td>0.250828</td>\n",
       "      <td>0.435809</td>\n",
       "    </tr>\n",
       "    <tr>\n",
       "      <th>2013-01-06</th>\n",
       "      <td>-1.353425</td>\n",
       "      <td>-0.771643</td>\n",
       "      <td>1.634625</td>\n",
       "      <td>-0.431460</td>\n",
       "    </tr>\n",
       "  </tbody>\n",
       "</table>\n",
       "</div>"
      ],
      "text/plain": [
       "                   A         B         C         D\n",
       "2013-01-01  0.318684  0.767959  1.479689 -0.336243\n",
       "2013-01-02  0.442559 -1.021652 -0.178984 -0.589534\n",
       "2013-01-03  0.324837 -0.475097 -2.147350  0.587486\n",
       "2013-01-04 -0.702213  0.492265 -0.508335 -1.098786\n",
       "2013-01-05 -1.239646 -0.506329  0.250828  0.435809\n",
       "2013-01-06 -1.353425 -0.771643  1.634625 -0.431460"
      ]
     },
     "execution_count": 11,
     "metadata": {},
     "output_type": "execute_result"
    }
   ],
   "source": [
    "df"
   ]
  },
  {
   "cell_type": "markdown",
   "metadata": {},
   "source": [
    "dict을 쓰면 각 열벡터를 각각 정의할 수 있습니다. R과 같이 chain rule이 적용됩니다. 'C'에서 정한 index가 전체에 적용되는 것을 볼 수 있습니다."
   ]
  },
  {
   "cell_type": "code",
   "execution_count": 12,
   "metadata": {
    "collapsed": true
   },
   "outputs": [],
   "source": [
    "df2 = pd.DataFrame({ 'A' : 1.,\n",
    "   ....:                      'B' : pd.Timestamp('20130102'),\n",
    "   ....:                      'C' : pd.Series(1,index=list(range(4)),dtype='float32'),\n",
    "   ....:                      'D' : np.array([3] * 4,dtype='int32'),\n",
    "   ....:                      'E' : pd.Categorical([\"test\",\"train\",\"test\",\"train\"]),\n",
    "   ....:                      'F' : 'foo' })"
   ]
  },
  {
   "cell_type": "code",
   "execution_count": 13,
   "metadata": {
    "collapsed": false
   },
   "outputs": [
    {
     "data": {
      "text/html": [
       "<div>\n",
       "<table border=\"1\" class=\"dataframe\">\n",
       "  <thead>\n",
       "    <tr style=\"text-align: right;\">\n",
       "      <th></th>\n",
       "      <th>A</th>\n",
       "      <th>B</th>\n",
       "      <th>C</th>\n",
       "      <th>D</th>\n",
       "      <th>E</th>\n",
       "      <th>F</th>\n",
       "    </tr>\n",
       "  </thead>\n",
       "  <tbody>\n",
       "    <tr>\n",
       "      <th>0</th>\n",
       "      <td>1.0</td>\n",
       "      <td>2013-01-02</td>\n",
       "      <td>1.0</td>\n",
       "      <td>3</td>\n",
       "      <td>test</td>\n",
       "      <td>foo</td>\n",
       "    </tr>\n",
       "    <tr>\n",
       "      <th>1</th>\n",
       "      <td>1.0</td>\n",
       "      <td>2013-01-02</td>\n",
       "      <td>1.0</td>\n",
       "      <td>3</td>\n",
       "      <td>train</td>\n",
       "      <td>foo</td>\n",
       "    </tr>\n",
       "    <tr>\n",
       "      <th>2</th>\n",
       "      <td>1.0</td>\n",
       "      <td>2013-01-02</td>\n",
       "      <td>1.0</td>\n",
       "      <td>3</td>\n",
       "      <td>test</td>\n",
       "      <td>foo</td>\n",
       "    </tr>\n",
       "    <tr>\n",
       "      <th>3</th>\n",
       "      <td>1.0</td>\n",
       "      <td>2013-01-02</td>\n",
       "      <td>1.0</td>\n",
       "      <td>3</td>\n",
       "      <td>train</td>\n",
       "      <td>foo</td>\n",
       "    </tr>\n",
       "  </tbody>\n",
       "</table>\n",
       "</div>"
      ],
      "text/plain": [
       "     A          B    C  D      E    F\n",
       "0  1.0 2013-01-02  1.0  3   test  foo\n",
       "1  1.0 2013-01-02  1.0  3  train  foo\n",
       "2  1.0 2013-01-02  1.0  3   test  foo\n",
       "3  1.0 2013-01-02  1.0  3  train  foo"
      ]
     },
     "execution_count": 13,
     "metadata": {},
     "output_type": "execute_result"
    }
   ],
   "source": [
    "df2"
   ]
  },
  {
   "cell_type": "markdown",
   "metadata": {},
   "source": [
    "열벡터의 데이터 타입을 보려면 dtypes를 호출합니다."
   ]
  },
  {
   "cell_type": "code",
   "execution_count": 14,
   "metadata": {
    "collapsed": false
   },
   "outputs": [
    {
     "data": {
      "text/plain": [
       "A           float64\n",
       "B    datetime64[ns]\n",
       "C           float32\n",
       "D             int32\n",
       "E          category\n",
       "F            object\n",
       "dtype: object"
      ]
     },
     "execution_count": 14,
     "metadata": {},
     "output_type": "execute_result"
    }
   ],
   "source": [
    "df2.dtypes"
   ]
  },
  {
   "cell_type": "markdown",
   "metadata": {},
   "source": [
    "데이터의 앞부분 몇 개를 보려면 head()를 뒷부분을 tail()을 실행합니다."
   ]
  },
  {
   "cell_type": "code",
   "execution_count": 15,
   "metadata": {
    "collapsed": false
   },
   "outputs": [
    {
     "data": {
      "text/html": [
       "<div>\n",
       "<table border=\"1\" class=\"dataframe\">\n",
       "  <thead>\n",
       "    <tr style=\"text-align: right;\">\n",
       "      <th></th>\n",
       "      <th>A</th>\n",
       "      <th>B</th>\n",
       "      <th>C</th>\n",
       "      <th>D</th>\n",
       "    </tr>\n",
       "  </thead>\n",
       "  <tbody>\n",
       "    <tr>\n",
       "      <th>2013-01-01</th>\n",
       "      <td>0.318684</td>\n",
       "      <td>0.767959</td>\n",
       "      <td>1.479689</td>\n",
       "      <td>-0.336243</td>\n",
       "    </tr>\n",
       "    <tr>\n",
       "      <th>2013-01-02</th>\n",
       "      <td>0.442559</td>\n",
       "      <td>-1.021652</td>\n",
       "      <td>-0.178984</td>\n",
       "      <td>-0.589534</td>\n",
       "    </tr>\n",
       "    <tr>\n",
       "      <th>2013-01-03</th>\n",
       "      <td>0.324837</td>\n",
       "      <td>-0.475097</td>\n",
       "      <td>-2.147350</td>\n",
       "      <td>0.587486</td>\n",
       "    </tr>\n",
       "    <tr>\n",
       "      <th>2013-01-04</th>\n",
       "      <td>-0.702213</td>\n",
       "      <td>0.492265</td>\n",
       "      <td>-0.508335</td>\n",
       "      <td>-1.098786</td>\n",
       "    </tr>\n",
       "    <tr>\n",
       "      <th>2013-01-05</th>\n",
       "      <td>-1.239646</td>\n",
       "      <td>-0.506329</td>\n",
       "      <td>0.250828</td>\n",
       "      <td>0.435809</td>\n",
       "    </tr>\n",
       "  </tbody>\n",
       "</table>\n",
       "</div>"
      ],
      "text/plain": [
       "                   A         B         C         D\n",
       "2013-01-01  0.318684  0.767959  1.479689 -0.336243\n",
       "2013-01-02  0.442559 -1.021652 -0.178984 -0.589534\n",
       "2013-01-03  0.324837 -0.475097 -2.147350  0.587486\n",
       "2013-01-04 -0.702213  0.492265 -0.508335 -1.098786\n",
       "2013-01-05 -1.239646 -0.506329  0.250828  0.435809"
      ]
     },
     "execution_count": 15,
     "metadata": {},
     "output_type": "execute_result"
    }
   ],
   "source": [
    "df.head()"
   ]
  },
  {
   "cell_type": "code",
   "execution_count": 16,
   "metadata": {
    "collapsed": false
   },
   "outputs": [
    {
     "data": {
      "text/html": [
       "<div>\n",
       "<table border=\"1\" class=\"dataframe\">\n",
       "  <thead>\n",
       "    <tr style=\"text-align: right;\">\n",
       "      <th></th>\n",
       "      <th>A</th>\n",
       "      <th>B</th>\n",
       "      <th>C</th>\n",
       "      <th>D</th>\n",
       "    </tr>\n",
       "  </thead>\n",
       "  <tbody>\n",
       "    <tr>\n",
       "      <th>2013-01-02</th>\n",
       "      <td>0.442559</td>\n",
       "      <td>-1.021652</td>\n",
       "      <td>-0.178984</td>\n",
       "      <td>-0.589534</td>\n",
       "    </tr>\n",
       "    <tr>\n",
       "      <th>2013-01-03</th>\n",
       "      <td>0.324837</td>\n",
       "      <td>-0.475097</td>\n",
       "      <td>-2.147350</td>\n",
       "      <td>0.587486</td>\n",
       "    </tr>\n",
       "    <tr>\n",
       "      <th>2013-01-04</th>\n",
       "      <td>-0.702213</td>\n",
       "      <td>0.492265</td>\n",
       "      <td>-0.508335</td>\n",
       "      <td>-1.098786</td>\n",
       "    </tr>\n",
       "    <tr>\n",
       "      <th>2013-01-05</th>\n",
       "      <td>-1.239646</td>\n",
       "      <td>-0.506329</td>\n",
       "      <td>0.250828</td>\n",
       "      <td>0.435809</td>\n",
       "    </tr>\n",
       "    <tr>\n",
       "      <th>2013-01-06</th>\n",
       "      <td>-1.353425</td>\n",
       "      <td>-0.771643</td>\n",
       "      <td>1.634625</td>\n",
       "      <td>-0.431460</td>\n",
       "    </tr>\n",
       "  </tbody>\n",
       "</table>\n",
       "</div>"
      ],
      "text/plain": [
       "                   A         B         C         D\n",
       "2013-01-02  0.442559 -1.021652 -0.178984 -0.589534\n",
       "2013-01-03  0.324837 -0.475097 -2.147350  0.587486\n",
       "2013-01-04 -0.702213  0.492265 -0.508335 -1.098786\n",
       "2013-01-05 -1.239646 -0.506329  0.250828  0.435809\n",
       "2013-01-06 -1.353425 -0.771643  1.634625 -0.431460"
      ]
     },
     "execution_count": 16,
     "metadata": {},
     "output_type": "execute_result"
    }
   ],
   "source": [
    "df.tail()"
   ]
  },
  {
   "cell_type": "markdown",
   "metadata": {},
   "source": [
    "이외에도 열 이름을 보려면 index\n",
    "컬럼을 보려면 columns\n",
    "값을 보려면 values"
   ]
  },
  {
   "cell_type": "code",
   "execution_count": 17,
   "metadata": {
    "collapsed": false
   },
   "outputs": [
    {
     "data": {
      "text/plain": [
       "DatetimeIndex(['2013-01-01', '2013-01-02', '2013-01-03', '2013-01-04',\n",
       "               '2013-01-05', '2013-01-06'],\n",
       "              dtype='datetime64[ns]', freq='D')"
      ]
     },
     "execution_count": 17,
     "metadata": {},
     "output_type": "execute_result"
    }
   ],
   "source": [
    "df.index"
   ]
  },
  {
   "cell_type": "code",
   "execution_count": 18,
   "metadata": {
    "collapsed": false
   },
   "outputs": [
    {
     "data": {
      "text/plain": [
       "Index(['A', 'B', 'C', 'D'], dtype='object')"
      ]
     },
     "execution_count": 18,
     "metadata": {},
     "output_type": "execute_result"
    }
   ],
   "source": [
    " df.columns"
   ]
  },
  {
   "cell_type": "code",
   "execution_count": 19,
   "metadata": {
    "collapsed": false
   },
   "outputs": [
    {
     "data": {
      "text/plain": [
       "array([[ 0.31868391,  0.76795855,  1.47968879, -0.33624343],\n",
       "       [ 0.44255926, -1.02165185, -0.17898359, -0.58953387],\n",
       "       [ 0.32483694, -0.47509691, -2.14734969,  0.58748608],\n",
       "       [-0.70221288,  0.49226465, -0.50833525, -1.09878619],\n",
       "       [-1.23964555, -0.5063289 ,  0.25082798,  0.43580892],\n",
       "       [-1.35342492, -0.77164258,  1.6346247 , -0.43146043]])"
      ]
     },
     "execution_count": 19,
     "metadata": {},
     "output_type": "execute_result"
    }
   ],
   "source": [
    "df.values"
   ]
  },
  {
   "cell_type": "markdown",
   "metadata": {},
   "source": [
    "각 컬럼별로 기본적인 통계 데이터를 확인하려면 describe()를 실행합니다."
   ]
  },
  {
   "cell_type": "code",
   "execution_count": 20,
   "metadata": {
    "collapsed": false
   },
   "outputs": [
    {
     "data": {
      "text/html": [
       "<div>\n",
       "<table border=\"1\" class=\"dataframe\">\n",
       "  <thead>\n",
       "    <tr style=\"text-align: right;\">\n",
       "      <th></th>\n",
       "      <th>A</th>\n",
       "      <th>B</th>\n",
       "      <th>C</th>\n",
       "      <th>D</th>\n",
       "    </tr>\n",
       "  </thead>\n",
       "  <tbody>\n",
       "    <tr>\n",
       "      <th>count</th>\n",
       "      <td>6.000000</td>\n",
       "      <td>6.000000</td>\n",
       "      <td>6.000000</td>\n",
       "      <td>6.000000</td>\n",
       "    </tr>\n",
       "    <tr>\n",
       "      <th>mean</th>\n",
       "      <td>-0.368201</td>\n",
       "      <td>-0.252416</td>\n",
       "      <td>0.088412</td>\n",
       "      <td>-0.238788</td>\n",
       "    </tr>\n",
       "    <tr>\n",
       "      <th>std</th>\n",
       "      <td>0.830794</td>\n",
       "      <td>0.717090</td>\n",
       "      <td>1.398502</td>\n",
       "      <td>0.639851</td>\n",
       "    </tr>\n",
       "    <tr>\n",
       "      <th>min</th>\n",
       "      <td>-1.353425</td>\n",
       "      <td>-1.021652</td>\n",
       "      <td>-2.147350</td>\n",
       "      <td>-1.098786</td>\n",
       "    </tr>\n",
       "    <tr>\n",
       "      <th>25%</th>\n",
       "      <td>-1.105287</td>\n",
       "      <td>-0.705314</td>\n",
       "      <td>-0.425997</td>\n",
       "      <td>-0.550016</td>\n",
       "    </tr>\n",
       "    <tr>\n",
       "      <th>50%</th>\n",
       "      <td>-0.191764</td>\n",
       "      <td>-0.490713</td>\n",
       "      <td>0.035922</td>\n",
       "      <td>-0.383852</td>\n",
       "    </tr>\n",
       "    <tr>\n",
       "      <th>75%</th>\n",
       "      <td>0.323299</td>\n",
       "      <td>0.250424</td>\n",
       "      <td>1.172474</td>\n",
       "      <td>0.242796</td>\n",
       "    </tr>\n",
       "    <tr>\n",
       "      <th>max</th>\n",
       "      <td>0.442559</td>\n",
       "      <td>0.767959</td>\n",
       "      <td>1.634625</td>\n",
       "      <td>0.587486</td>\n",
       "    </tr>\n",
       "  </tbody>\n",
       "</table>\n",
       "</div>"
      ],
      "text/plain": [
       "              A         B         C         D\n",
       "count  6.000000  6.000000  6.000000  6.000000\n",
       "mean  -0.368201 -0.252416  0.088412 -0.238788\n",
       "std    0.830794  0.717090  1.398502  0.639851\n",
       "min   -1.353425 -1.021652 -2.147350 -1.098786\n",
       "25%   -1.105287 -0.705314 -0.425997 -0.550016\n",
       "50%   -0.191764 -0.490713  0.035922 -0.383852\n",
       "75%    0.323299  0.250424  1.172474  0.242796\n",
       "max    0.442559  0.767959  1.634625  0.587486"
      ]
     },
     "execution_count": 20,
     "metadata": {},
     "output_type": "execute_result"
    }
   ],
   "source": [
    "df.describe()"
   ]
  },
  {
   "cell_type": "markdown",
   "metadata": {},
   "source": [
    "전치행렬을 구하려면 T"
   ]
  },
  {
   "cell_type": "code",
   "execution_count": 21,
   "metadata": {
    "collapsed": false
   },
   "outputs": [
    {
     "data": {
      "text/html": [
       "<div>\n",
       "<table border=\"1\" class=\"dataframe\">\n",
       "  <thead>\n",
       "    <tr style=\"text-align: right;\">\n",
       "      <th></th>\n",
       "      <th>2013-01-01 00:00:00</th>\n",
       "      <th>2013-01-02 00:00:00</th>\n",
       "      <th>2013-01-03 00:00:00</th>\n",
       "      <th>2013-01-04 00:00:00</th>\n",
       "      <th>2013-01-05 00:00:00</th>\n",
       "      <th>2013-01-06 00:00:00</th>\n",
       "    </tr>\n",
       "  </thead>\n",
       "  <tbody>\n",
       "    <tr>\n",
       "      <th>A</th>\n",
       "      <td>0.318684</td>\n",
       "      <td>0.442559</td>\n",
       "      <td>0.324837</td>\n",
       "      <td>-0.702213</td>\n",
       "      <td>-1.239646</td>\n",
       "      <td>-1.353425</td>\n",
       "    </tr>\n",
       "    <tr>\n",
       "      <th>B</th>\n",
       "      <td>0.767959</td>\n",
       "      <td>-1.021652</td>\n",
       "      <td>-0.475097</td>\n",
       "      <td>0.492265</td>\n",
       "      <td>-0.506329</td>\n",
       "      <td>-0.771643</td>\n",
       "    </tr>\n",
       "    <tr>\n",
       "      <th>C</th>\n",
       "      <td>1.479689</td>\n",
       "      <td>-0.178984</td>\n",
       "      <td>-2.147350</td>\n",
       "      <td>-0.508335</td>\n",
       "      <td>0.250828</td>\n",
       "      <td>1.634625</td>\n",
       "    </tr>\n",
       "    <tr>\n",
       "      <th>D</th>\n",
       "      <td>-0.336243</td>\n",
       "      <td>-0.589534</td>\n",
       "      <td>0.587486</td>\n",
       "      <td>-1.098786</td>\n",
       "      <td>0.435809</td>\n",
       "      <td>-0.431460</td>\n",
       "    </tr>\n",
       "  </tbody>\n",
       "</table>\n",
       "</div>"
      ],
      "text/plain": [
       "   2013-01-01  2013-01-02  2013-01-03  2013-01-04  2013-01-05  2013-01-06\n",
       "A    0.318684    0.442559    0.324837   -0.702213   -1.239646   -1.353425\n",
       "B    0.767959   -1.021652   -0.475097    0.492265   -0.506329   -0.771643\n",
       "C    1.479689   -0.178984   -2.147350   -0.508335    0.250828    1.634625\n",
       "D   -0.336243   -0.589534    0.587486   -1.098786    0.435809   -0.431460"
      ]
     },
     "execution_count": 21,
     "metadata": {},
     "output_type": "execute_result"
    }
   ],
   "source": [
    "df.T"
   ]
  },
  {
   "cell_type": "markdown",
   "metadata": {},
   "source": [
    "축을 기준(0=열, 1=행)으로 정렬한다. ascending=True가 디폴트다."
   ]
  },
  {
   "cell_type": "code",
   "execution_count": 27,
   "metadata": {
    "collapsed": false
   },
   "outputs": [
    {
     "data": {
      "text/html": [
       "<div>\n",
       "<table border=\"1\" class=\"dataframe\">\n",
       "  <thead>\n",
       "    <tr style=\"text-align: right;\">\n",
       "      <th></th>\n",
       "      <th>D</th>\n",
       "      <th>C</th>\n",
       "      <th>B</th>\n",
       "      <th>A</th>\n",
       "    </tr>\n",
       "  </thead>\n",
       "  <tbody>\n",
       "    <tr>\n",
       "      <th>2013-01-01</th>\n",
       "      <td>-0.336243</td>\n",
       "      <td>1.479689</td>\n",
       "      <td>0.767959</td>\n",
       "      <td>0.318684</td>\n",
       "    </tr>\n",
       "    <tr>\n",
       "      <th>2013-01-02</th>\n",
       "      <td>-0.589534</td>\n",
       "      <td>-0.178984</td>\n",
       "      <td>-1.021652</td>\n",
       "      <td>0.442559</td>\n",
       "    </tr>\n",
       "    <tr>\n",
       "      <th>2013-01-03</th>\n",
       "      <td>0.587486</td>\n",
       "      <td>-2.147350</td>\n",
       "      <td>-0.475097</td>\n",
       "      <td>0.324837</td>\n",
       "    </tr>\n",
       "    <tr>\n",
       "      <th>2013-01-04</th>\n",
       "      <td>-1.098786</td>\n",
       "      <td>-0.508335</td>\n",
       "      <td>0.492265</td>\n",
       "      <td>-0.702213</td>\n",
       "    </tr>\n",
       "    <tr>\n",
       "      <th>2013-01-05</th>\n",
       "      <td>0.435809</td>\n",
       "      <td>0.250828</td>\n",
       "      <td>-0.506329</td>\n",
       "      <td>-1.239646</td>\n",
       "    </tr>\n",
       "    <tr>\n",
       "      <th>2013-01-06</th>\n",
       "      <td>-0.431460</td>\n",
       "      <td>1.634625</td>\n",
       "      <td>-0.771643</td>\n",
       "      <td>-1.353425</td>\n",
       "    </tr>\n",
       "  </tbody>\n",
       "</table>\n",
       "</div>"
      ],
      "text/plain": [
       "                   D         C         B         A\n",
       "2013-01-01 -0.336243  1.479689  0.767959  0.318684\n",
       "2013-01-02 -0.589534 -0.178984 -1.021652  0.442559\n",
       "2013-01-03  0.587486 -2.147350 -0.475097  0.324837\n",
       "2013-01-04 -1.098786 -0.508335  0.492265 -0.702213\n",
       "2013-01-05  0.435809  0.250828 -0.506329 -1.239646\n",
       "2013-01-06 -0.431460  1.634625 -0.771643 -1.353425"
      ]
     },
     "execution_count": 27,
     "metadata": {},
     "output_type": "execute_result"
    }
   ],
   "source": [
    "df.sort_index(axis=1, ascending=False)"
   ]
  },
  {
   "cell_type": "markdown",
   "metadata": {},
   "source": [
    "값을 기준으로(이 때 열 이름 지정) 정렬하려면 sort_values()"
   ]
  },
  {
   "cell_type": "code",
   "execution_count": 28,
   "metadata": {
    "collapsed": false
   },
   "outputs": [
    {
     "data": {
      "text/html": [
       "<div>\n",
       "<table border=\"1\" class=\"dataframe\">\n",
       "  <thead>\n",
       "    <tr style=\"text-align: right;\">\n",
       "      <th></th>\n",
       "      <th>A</th>\n",
       "      <th>B</th>\n",
       "      <th>C</th>\n",
       "      <th>D</th>\n",
       "    </tr>\n",
       "  </thead>\n",
       "  <tbody>\n",
       "    <tr>\n",
       "      <th>2013-01-02</th>\n",
       "      <td>0.442559</td>\n",
       "      <td>-1.021652</td>\n",
       "      <td>-0.178984</td>\n",
       "      <td>-0.589534</td>\n",
       "    </tr>\n",
       "    <tr>\n",
       "      <th>2013-01-06</th>\n",
       "      <td>-1.353425</td>\n",
       "      <td>-0.771643</td>\n",
       "      <td>1.634625</td>\n",
       "      <td>-0.431460</td>\n",
       "    </tr>\n",
       "    <tr>\n",
       "      <th>2013-01-05</th>\n",
       "      <td>-1.239646</td>\n",
       "      <td>-0.506329</td>\n",
       "      <td>0.250828</td>\n",
       "      <td>0.435809</td>\n",
       "    </tr>\n",
       "    <tr>\n",
       "      <th>2013-01-03</th>\n",
       "      <td>0.324837</td>\n",
       "      <td>-0.475097</td>\n",
       "      <td>-2.147350</td>\n",
       "      <td>0.587486</td>\n",
       "    </tr>\n",
       "    <tr>\n",
       "      <th>2013-01-04</th>\n",
       "      <td>-0.702213</td>\n",
       "      <td>0.492265</td>\n",
       "      <td>-0.508335</td>\n",
       "      <td>-1.098786</td>\n",
       "    </tr>\n",
       "    <tr>\n",
       "      <th>2013-01-01</th>\n",
       "      <td>0.318684</td>\n",
       "      <td>0.767959</td>\n",
       "      <td>1.479689</td>\n",
       "      <td>-0.336243</td>\n",
       "    </tr>\n",
       "  </tbody>\n",
       "</table>\n",
       "</div>"
      ],
      "text/plain": [
       "                   A         B         C         D\n",
       "2013-01-02  0.442559 -1.021652 -0.178984 -0.589534\n",
       "2013-01-06 -1.353425 -0.771643  1.634625 -0.431460\n",
       "2013-01-05 -1.239646 -0.506329  0.250828  0.435809\n",
       "2013-01-03  0.324837 -0.475097 -2.147350  0.587486\n",
       "2013-01-04 -0.702213  0.492265 -0.508335 -1.098786\n",
       "2013-01-01  0.318684  0.767959  1.479689 -0.336243"
      ]
     },
     "execution_count": 28,
     "metadata": {},
     "output_type": "execute_result"
    }
   ],
   "source": [
    "df.sort_values(by='B')"
   ]
  },
  {
   "cell_type": "code",
   "execution_count": 29,
   "metadata": {
    "collapsed": false
   },
   "outputs": [
    {
     "data": {
      "text/html": [
       "<div>\n",
       "<table border=\"1\" class=\"dataframe\">\n",
       "  <thead>\n",
       "    <tr style=\"text-align: right;\">\n",
       "      <th></th>\n",
       "      <th>A</th>\n",
       "      <th>B</th>\n",
       "      <th>C</th>\n",
       "      <th>D</th>\n",
       "    </tr>\n",
       "  </thead>\n",
       "  <tbody>\n",
       "    <tr>\n",
       "      <th>2013-01-01</th>\n",
       "      <td>0.318684</td>\n",
       "      <td>0.767959</td>\n",
       "      <td>1.479689</td>\n",
       "      <td>-0.336243</td>\n",
       "    </tr>\n",
       "    <tr>\n",
       "      <th>2013-01-04</th>\n",
       "      <td>-0.702213</td>\n",
       "      <td>0.492265</td>\n",
       "      <td>-0.508335</td>\n",
       "      <td>-1.098786</td>\n",
       "    </tr>\n",
       "    <tr>\n",
       "      <th>2013-01-03</th>\n",
       "      <td>0.324837</td>\n",
       "      <td>-0.475097</td>\n",
       "      <td>-2.147350</td>\n",
       "      <td>0.587486</td>\n",
       "    </tr>\n",
       "    <tr>\n",
       "      <th>2013-01-05</th>\n",
       "      <td>-1.239646</td>\n",
       "      <td>-0.506329</td>\n",
       "      <td>0.250828</td>\n",
       "      <td>0.435809</td>\n",
       "    </tr>\n",
       "    <tr>\n",
       "      <th>2013-01-06</th>\n",
       "      <td>-1.353425</td>\n",
       "      <td>-0.771643</td>\n",
       "      <td>1.634625</td>\n",
       "      <td>-0.431460</td>\n",
       "    </tr>\n",
       "    <tr>\n",
       "      <th>2013-01-02</th>\n",
       "      <td>0.442559</td>\n",
       "      <td>-1.021652</td>\n",
       "      <td>-0.178984</td>\n",
       "      <td>-0.589534</td>\n",
       "    </tr>\n",
       "  </tbody>\n",
       "</table>\n",
       "</div>"
      ],
      "text/plain": [
       "                   A         B         C         D\n",
       "2013-01-01  0.318684  0.767959  1.479689 -0.336243\n",
       "2013-01-04 -0.702213  0.492265 -0.508335 -1.098786\n",
       "2013-01-03  0.324837 -0.475097 -2.147350  0.587486\n",
       "2013-01-05 -1.239646 -0.506329  0.250828  0.435809\n",
       "2013-01-06 -1.353425 -0.771643  1.634625 -0.431460\n",
       "2013-01-02  0.442559 -1.021652 -0.178984 -0.589534"
      ]
     },
     "execution_count": 29,
     "metadata": {},
     "output_type": "execute_result"
    }
   ],
   "source": [
    "df.sort_values(by='B',ascending=False)"
   ]
  },
  {
   "cell_type": "markdown",
   "metadata": {},
   "source": [
    "컬럼(즉, variable)을 고르려면 key값인 컬럼 이름을 적어준다."
   ]
  },
  {
   "cell_type": "code",
   "execution_count": 30,
   "metadata": {
    "collapsed": false,
    "scrolled": true
   },
   "outputs": [
    {
     "data": {
      "text/plain": [
       "2013-01-01    0.318684\n",
       "2013-01-02    0.442559\n",
       "2013-01-03    0.324837\n",
       "2013-01-04   -0.702213\n",
       "2013-01-05   -1.239646\n",
       "2013-01-06   -1.353425\n",
       "Freq: D, Name: A, dtype: float64"
      ]
     },
     "execution_count": 30,
     "metadata": {},
     "output_type": "execute_result"
    }
   ],
   "source": [
    "df['A']"
   ]
  },
  {
   "cell_type": "markdown",
   "metadata": {},
   "source": [
    "범위를 주면 데이터의 행을 가져온다. 0에서 2까지 3개를 가져오려면"
   ]
  },
  {
   "cell_type": "code",
   "execution_count": 31,
   "metadata": {
    "collapsed": false
   },
   "outputs": [
    {
     "data": {
      "text/html": [
       "<div>\n",
       "<table border=\"1\" class=\"dataframe\">\n",
       "  <thead>\n",
       "    <tr style=\"text-align: right;\">\n",
       "      <th></th>\n",
       "      <th>A</th>\n",
       "      <th>B</th>\n",
       "      <th>C</th>\n",
       "      <th>D</th>\n",
       "    </tr>\n",
       "  </thead>\n",
       "  <tbody>\n",
       "    <tr>\n",
       "      <th>2013-01-01</th>\n",
       "      <td>0.318684</td>\n",
       "      <td>0.767959</td>\n",
       "      <td>1.479689</td>\n",
       "      <td>-0.336243</td>\n",
       "    </tr>\n",
       "    <tr>\n",
       "      <th>2013-01-02</th>\n",
       "      <td>0.442559</td>\n",
       "      <td>-1.021652</td>\n",
       "      <td>-0.178984</td>\n",
       "      <td>-0.589534</td>\n",
       "    </tr>\n",
       "    <tr>\n",
       "      <th>2013-01-03</th>\n",
       "      <td>0.324837</td>\n",
       "      <td>-0.475097</td>\n",
       "      <td>-2.147350</td>\n",
       "      <td>0.587486</td>\n",
       "    </tr>\n",
       "  </tbody>\n",
       "</table>\n",
       "</div>"
      ],
      "text/plain": [
       "                   A         B         C         D\n",
       "2013-01-01  0.318684  0.767959  1.479689 -0.336243\n",
       "2013-01-02  0.442559 -1.021652 -0.178984 -0.589534\n",
       "2013-01-03  0.324837 -0.475097 -2.147350  0.587486"
      ]
     },
     "execution_count": 31,
     "metadata": {},
     "output_type": "execute_result"
    }
   ],
   "source": [
    "df[0:3]"
   ]
  },
  {
   "cell_type": "markdown",
   "metadata": {},
   "source": [
    "행 이름을 지정하면 양쪽이 다 포함된 것을 가져온다."
   ]
  },
  {
   "cell_type": "code",
   "execution_count": 32,
   "metadata": {
    "collapsed": false
   },
   "outputs": [
    {
     "data": {
      "text/html": [
       "<div>\n",
       "<table border=\"1\" class=\"dataframe\">\n",
       "  <thead>\n",
       "    <tr style=\"text-align: right;\">\n",
       "      <th></th>\n",
       "      <th>A</th>\n",
       "      <th>B</th>\n",
       "      <th>C</th>\n",
       "      <th>D</th>\n",
       "    </tr>\n",
       "  </thead>\n",
       "  <tbody>\n",
       "    <tr>\n",
       "      <th>2013-01-02</th>\n",
       "      <td>0.442559</td>\n",
       "      <td>-1.021652</td>\n",
       "      <td>-0.178984</td>\n",
       "      <td>-0.589534</td>\n",
       "    </tr>\n",
       "    <tr>\n",
       "      <th>2013-01-03</th>\n",
       "      <td>0.324837</td>\n",
       "      <td>-0.475097</td>\n",
       "      <td>-2.147350</td>\n",
       "      <td>0.587486</td>\n",
       "    </tr>\n",
       "    <tr>\n",
       "      <th>2013-01-04</th>\n",
       "      <td>-0.702213</td>\n",
       "      <td>0.492265</td>\n",
       "      <td>-0.508335</td>\n",
       "      <td>-1.098786</td>\n",
       "    </tr>\n",
       "  </tbody>\n",
       "</table>\n",
       "</div>"
      ],
      "text/plain": [
       "                   A         B         C         D\n",
       "2013-01-02  0.442559 -1.021652 -0.178984 -0.589534\n",
       "2013-01-03  0.324837 -0.475097 -2.147350  0.587486\n",
       "2013-01-04 -0.702213  0.492265 -0.508335 -1.098786"
      ]
     },
     "execution_count": 32,
     "metadata": {},
     "output_type": "execute_result"
    }
   ],
   "source": [
    "df['20130102':'20130104']"
   ]
  },
  {
   "cell_type": "markdown",
   "metadata": {},
   "source": [
    "특정한 k번째 행을 가져오려면 [k:k+1]"
   ]
  },
  {
   "cell_type": "code",
   "execution_count": 36,
   "metadata": {
    "collapsed": false
   },
   "outputs": [
    {
     "data": {
      "text/html": [
       "<div>\n",
       "<table border=\"1\" class=\"dataframe\">\n",
       "  <thead>\n",
       "    <tr style=\"text-align: right;\">\n",
       "      <th></th>\n",
       "      <th>A</th>\n",
       "      <th>B</th>\n",
       "      <th>C</th>\n",
       "      <th>D</th>\n",
       "    </tr>\n",
       "  </thead>\n",
       "  <tbody>\n",
       "    <tr>\n",
       "      <th>2013-01-01</th>\n",
       "      <td>0.318684</td>\n",
       "      <td>0.767959</td>\n",
       "      <td>1.479689</td>\n",
       "      <td>-0.336243</td>\n",
       "    </tr>\n",
       "  </tbody>\n",
       "</table>\n",
       "</div>"
      ],
      "text/plain": [
       "                   A         B         C         D\n",
       "2013-01-01  0.318684  0.767959  1.479689 -0.336243"
      ]
     },
     "execution_count": 36,
     "metadata": {},
     "output_type": "execute_result"
    }
   ],
   "source": [
    "df[0:1]"
   ]
  },
  {
   "cell_type": "markdown",
   "metadata": {},
   "source": [
    "특정 열을 가져오려면 [,]을 사용한다. 이 때 : 기호는 \"모두\"라는 뜻이다. 지정할 열은 list로 묶는다."
   ]
  },
  {
   "cell_type": "code",
   "execution_count": 37,
   "metadata": {
    "collapsed": false
   },
   "outputs": [
    {
     "data": {
      "text/html": [
       "<div>\n",
       "<table border=\"1\" class=\"dataframe\">\n",
       "  <thead>\n",
       "    <tr style=\"text-align: right;\">\n",
       "      <th></th>\n",
       "      <th>A</th>\n",
       "      <th>B</th>\n",
       "    </tr>\n",
       "  </thead>\n",
       "  <tbody>\n",
       "    <tr>\n",
       "      <th>2013-01-01</th>\n",
       "      <td>0.318684</td>\n",
       "      <td>0.767959</td>\n",
       "    </tr>\n",
       "    <tr>\n",
       "      <th>2013-01-02</th>\n",
       "      <td>0.442559</td>\n",
       "      <td>-1.021652</td>\n",
       "    </tr>\n",
       "    <tr>\n",
       "      <th>2013-01-03</th>\n",
       "      <td>0.324837</td>\n",
       "      <td>-0.475097</td>\n",
       "    </tr>\n",
       "    <tr>\n",
       "      <th>2013-01-04</th>\n",
       "      <td>-0.702213</td>\n",
       "      <td>0.492265</td>\n",
       "    </tr>\n",
       "    <tr>\n",
       "      <th>2013-01-05</th>\n",
       "      <td>-1.239646</td>\n",
       "      <td>-0.506329</td>\n",
       "    </tr>\n",
       "    <tr>\n",
       "      <th>2013-01-06</th>\n",
       "      <td>-1.353425</td>\n",
       "      <td>-0.771643</td>\n",
       "    </tr>\n",
       "  </tbody>\n",
       "</table>\n",
       "</div>"
      ],
      "text/plain": [
       "                   A         B\n",
       "2013-01-01  0.318684  0.767959\n",
       "2013-01-02  0.442559 -1.021652\n",
       "2013-01-03  0.324837 -0.475097\n",
       "2013-01-04 -0.702213  0.492265\n",
       "2013-01-05 -1.239646 -0.506329\n",
       "2013-01-06 -1.353425 -0.771643"
      ]
     },
     "execution_count": 37,
     "metadata": {},
     "output_type": "execute_result"
    }
   ],
   "source": [
    "df.loc[:,['A','B']]"
   ]
  },
  {
   "cell_type": "markdown",
   "metadata": {},
   "source": [
    "다음과 같이 응용 가능하다."
   ]
  },
  {
   "cell_type": "code",
   "execution_count": 38,
   "metadata": {
    "collapsed": false
   },
   "outputs": [
    {
     "data": {
      "text/html": [
       "<div>\n",
       "<table border=\"1\" class=\"dataframe\">\n",
       "  <thead>\n",
       "    <tr style=\"text-align: right;\">\n",
       "      <th></th>\n",
       "      <th>A</th>\n",
       "      <th>B</th>\n",
       "    </tr>\n",
       "  </thead>\n",
       "  <tbody>\n",
       "    <tr>\n",
       "      <th>2013-01-02</th>\n",
       "      <td>0.442559</td>\n",
       "      <td>-1.021652</td>\n",
       "    </tr>\n",
       "    <tr>\n",
       "      <th>2013-01-03</th>\n",
       "      <td>0.324837</td>\n",
       "      <td>-0.475097</td>\n",
       "    </tr>\n",
       "    <tr>\n",
       "      <th>2013-01-04</th>\n",
       "      <td>-0.702213</td>\n",
       "      <td>0.492265</td>\n",
       "    </tr>\n",
       "  </tbody>\n",
       "</table>\n",
       "</div>"
      ],
      "text/plain": [
       "                   A         B\n",
       "2013-01-02  0.442559 -1.021652\n",
       "2013-01-03  0.324837 -0.475097\n",
       "2013-01-04 -0.702213  0.492265"
      ]
     },
     "execution_count": 38,
     "metadata": {},
     "output_type": "execute_result"
    }
   ],
   "source": [
    "df.loc['20130102':'20130104',['A','B']]"
   ]
  },
  {
   "cell_type": "code",
   "execution_count": 39,
   "metadata": {
    "collapsed": false
   },
   "outputs": [
    {
     "data": {
      "text/plain": [
       "A    0.442559\n",
       "B   -1.021652\n",
       "Name: 2013-01-02 00:00:00, dtype: float64"
      ]
     },
     "execution_count": 39,
     "metadata": {},
     "output_type": "execute_result"
    }
   ],
   "source": [
    "df.loc['20130102',['A','B']]"
   ]
  },
  {
   "cell_type": "markdown",
   "metadata": {},
   "source": [
    "특정 포인트를 찍어주려면 다음과 같이 한다."
   ]
  },
  {
   "cell_type": "code",
   "execution_count": 40,
   "metadata": {
    "collapsed": false
   },
   "outputs": [
    {
     "data": {
      "text/plain": [
       "0.31868391147622149"
      ]
     },
     "execution_count": 40,
     "metadata": {},
     "output_type": "execute_result"
    }
   ],
   "source": [
    "df.loc[dates[0],'A']"
   ]
  },
  {
   "cell_type": "markdown",
   "metadata": {},
   "source": [
    "iloc를 써서 특정 위치를 쉽게 가져올 수 있다. iloc[3]은 4번째 행을 가져온다."
   ]
  },
  {
   "cell_type": "code",
   "execution_count": 41,
   "metadata": {
    "collapsed": false
   },
   "outputs": [
    {
     "data": {
      "text/plain": [
       "A   -0.702213\n",
       "B    0.492265\n",
       "C   -0.508335\n",
       "D   -1.098786\n",
       "Name: 2013-01-04 00:00:00, dtype: float64"
      ]
     },
     "execution_count": 41,
     "metadata": {},
     "output_type": "execute_result"
    }
   ],
   "source": [
    " df.iloc[3]"
   ]
  },
  {
   "cell_type": "markdown",
   "metadata": {},
   "source": [
    "[,]형태로 iloc를 적용하면 행과 열을 슬라이싱(slicing)한다. 3,4번째 행과 0,1번째 열을 가져와보자."
   ]
  },
  {
   "cell_type": "code",
   "execution_count": 42,
   "metadata": {
    "collapsed": false
   },
   "outputs": [
    {
     "data": {
      "text/html": [
       "<div>\n",
       "<table border=\"1\" class=\"dataframe\">\n",
       "  <thead>\n",
       "    <tr style=\"text-align: right;\">\n",
       "      <th></th>\n",
       "      <th>A</th>\n",
       "      <th>B</th>\n",
       "    </tr>\n",
       "  </thead>\n",
       "  <tbody>\n",
       "    <tr>\n",
       "      <th>2013-01-04</th>\n",
       "      <td>-0.702213</td>\n",
       "      <td>0.492265</td>\n",
       "    </tr>\n",
       "    <tr>\n",
       "      <th>2013-01-05</th>\n",
       "      <td>-1.239646</td>\n",
       "      <td>-0.506329</td>\n",
       "    </tr>\n",
       "  </tbody>\n",
       "</table>\n",
       "</div>"
      ],
      "text/plain": [
       "                   A         B\n",
       "2013-01-04 -0.702213  0.492265\n",
       "2013-01-05 -1.239646 -0.506329"
      ]
     },
     "execution_count": 42,
     "metadata": {},
     "output_type": "execute_result"
    }
   ],
   "source": [
    " df.iloc[3:5,0:2]"
   ]
  },
  {
   "cell_type": "markdown",
   "metadata": {},
   "source": [
    "위치를 지정하는 것도 가능하다."
   ]
  },
  {
   "cell_type": "code",
   "execution_count": 43,
   "metadata": {
    "collapsed": false
   },
   "outputs": [
    {
     "data": {
      "text/html": [
       "<div>\n",
       "<table border=\"1\" class=\"dataframe\">\n",
       "  <thead>\n",
       "    <tr style=\"text-align: right;\">\n",
       "      <th></th>\n",
       "      <th>A</th>\n",
       "      <th>C</th>\n",
       "    </tr>\n",
       "  </thead>\n",
       "  <tbody>\n",
       "    <tr>\n",
       "      <th>2013-01-02</th>\n",
       "      <td>0.442559</td>\n",
       "      <td>-0.178984</td>\n",
       "    </tr>\n",
       "    <tr>\n",
       "      <th>2013-01-03</th>\n",
       "      <td>0.324837</td>\n",
       "      <td>-2.147350</td>\n",
       "    </tr>\n",
       "    <tr>\n",
       "      <th>2013-01-05</th>\n",
       "      <td>-1.239646</td>\n",
       "      <td>0.250828</td>\n",
       "    </tr>\n",
       "  </tbody>\n",
       "</table>\n",
       "</div>"
      ],
      "text/plain": [
       "                   A         C\n",
       "2013-01-02  0.442559 -0.178984\n",
       "2013-01-03  0.324837 -2.147350\n",
       "2013-01-05 -1.239646  0.250828"
      ]
     },
     "execution_count": 43,
     "metadata": {},
     "output_type": "execute_result"
    }
   ],
   "source": [
    "df.iloc[[1,2,4],[0,2]]"
   ]
  },
  {
   "cell_type": "code",
   "execution_count": 44,
   "metadata": {
    "collapsed": false
   },
   "outputs": [
    {
     "data": {
      "text/html": [
       "<div>\n",
       "<table border=\"1\" class=\"dataframe\">\n",
       "  <thead>\n",
       "    <tr style=\"text-align: right;\">\n",
       "      <th></th>\n",
       "      <th>A</th>\n",
       "      <th>B</th>\n",
       "      <th>C</th>\n",
       "      <th>D</th>\n",
       "    </tr>\n",
       "  </thead>\n",
       "  <tbody>\n",
       "    <tr>\n",
       "      <th>2013-01-02</th>\n",
       "      <td>0.442559</td>\n",
       "      <td>-1.021652</td>\n",
       "      <td>-0.178984</td>\n",
       "      <td>-0.589534</td>\n",
       "    </tr>\n",
       "    <tr>\n",
       "      <th>2013-01-03</th>\n",
       "      <td>0.324837</td>\n",
       "      <td>-0.475097</td>\n",
       "      <td>-2.147350</td>\n",
       "      <td>0.587486</td>\n",
       "    </tr>\n",
       "  </tbody>\n",
       "</table>\n",
       "</div>"
      ],
      "text/plain": [
       "                   A         B         C         D\n",
       "2013-01-02  0.442559 -1.021652 -0.178984 -0.589534\n",
       "2013-01-03  0.324837 -0.475097 -2.147350  0.587486"
      ]
     },
     "execution_count": 44,
     "metadata": {},
     "output_type": "execute_result"
    }
   ],
   "source": [
    " df.iloc[1:3,:]"
   ]
  },
  {
   "cell_type": "code",
   "execution_count": 45,
   "metadata": {
    "collapsed": false
   },
   "outputs": [
    {
     "data": {
      "text/html": [
       "<div>\n",
       "<table border=\"1\" class=\"dataframe\">\n",
       "  <thead>\n",
       "    <tr style=\"text-align: right;\">\n",
       "      <th></th>\n",
       "      <th>B</th>\n",
       "      <th>C</th>\n",
       "    </tr>\n",
       "  </thead>\n",
       "  <tbody>\n",
       "    <tr>\n",
       "      <th>2013-01-01</th>\n",
       "      <td>0.767959</td>\n",
       "      <td>1.479689</td>\n",
       "    </tr>\n",
       "    <tr>\n",
       "      <th>2013-01-02</th>\n",
       "      <td>-1.021652</td>\n",
       "      <td>-0.178984</td>\n",
       "    </tr>\n",
       "    <tr>\n",
       "      <th>2013-01-03</th>\n",
       "      <td>-0.475097</td>\n",
       "      <td>-2.147350</td>\n",
       "    </tr>\n",
       "    <tr>\n",
       "      <th>2013-01-04</th>\n",
       "      <td>0.492265</td>\n",
       "      <td>-0.508335</td>\n",
       "    </tr>\n",
       "    <tr>\n",
       "      <th>2013-01-05</th>\n",
       "      <td>-0.506329</td>\n",
       "      <td>0.250828</td>\n",
       "    </tr>\n",
       "    <tr>\n",
       "      <th>2013-01-06</th>\n",
       "      <td>-0.771643</td>\n",
       "      <td>1.634625</td>\n",
       "    </tr>\n",
       "  </tbody>\n",
       "</table>\n",
       "</div>"
      ],
      "text/plain": [
       "                   B         C\n",
       "2013-01-01  0.767959  1.479689\n",
       "2013-01-02 -1.021652 -0.178984\n",
       "2013-01-03 -0.475097 -2.147350\n",
       "2013-01-04  0.492265 -0.508335\n",
       "2013-01-05 -0.506329  0.250828\n",
       "2013-01-06 -0.771643  1.634625"
      ]
     },
     "execution_count": 45,
     "metadata": {},
     "output_type": "execute_result"
    }
   ],
   "source": [
    "df.iloc[:,1:3]"
   ]
  },
  {
   "cell_type": "code",
   "execution_count": 46,
   "metadata": {
    "collapsed": false
   },
   "outputs": [
    {
     "data": {
      "text/plain": [
       "-1.0216518452066194"
      ]
     },
     "execution_count": 46,
     "metadata": {},
     "output_type": "execute_result"
    }
   ],
   "source": [
    " df.iloc[1,1]"
   ]
  },
  {
   "cell_type": "markdown",
   "metadata": {},
   "source": [
    "위와 같지만 좀 더 속도를 빠르게 scalar 값만 가져오려면 iat을 사용한다."
   ]
  },
  {
   "cell_type": "code",
   "execution_count": 47,
   "metadata": {
    "collapsed": false
   },
   "outputs": [
    {
     "data": {
      "text/plain": [
       "-1.0216518452066194"
      ]
     },
     "execution_count": 47,
     "metadata": {},
     "output_type": "execute_result"
    }
   ],
   "source": [
    "df.iat[1,1]"
   ]
  },
  {
   "cell_type": "markdown",
   "metadata": {},
   "source": [
    "간단하게 A열 중 양의 값만 되는 데이터를 추려보자."
   ]
  },
  {
   "cell_type": "code",
   "execution_count": 48,
   "metadata": {
    "collapsed": false
   },
   "outputs": [
    {
     "data": {
      "text/html": [
       "<div>\n",
       "<table border=\"1\" class=\"dataframe\">\n",
       "  <thead>\n",
       "    <tr style=\"text-align: right;\">\n",
       "      <th></th>\n",
       "      <th>A</th>\n",
       "      <th>B</th>\n",
       "      <th>C</th>\n",
       "      <th>D</th>\n",
       "    </tr>\n",
       "  </thead>\n",
       "  <tbody>\n",
       "    <tr>\n",
       "      <th>2013-01-01</th>\n",
       "      <td>0.318684</td>\n",
       "      <td>0.767959</td>\n",
       "      <td>1.479689</td>\n",
       "      <td>-0.336243</td>\n",
       "    </tr>\n",
       "    <tr>\n",
       "      <th>2013-01-02</th>\n",
       "      <td>0.442559</td>\n",
       "      <td>-1.021652</td>\n",
       "      <td>-0.178984</td>\n",
       "      <td>-0.589534</td>\n",
       "    </tr>\n",
       "    <tr>\n",
       "      <th>2013-01-03</th>\n",
       "      <td>0.324837</td>\n",
       "      <td>-0.475097</td>\n",
       "      <td>-2.147350</td>\n",
       "      <td>0.587486</td>\n",
       "    </tr>\n",
       "  </tbody>\n",
       "</table>\n",
       "</div>"
      ],
      "text/plain": [
       "                   A         B         C         D\n",
       "2013-01-01  0.318684  0.767959  1.479689 -0.336243\n",
       "2013-01-02  0.442559 -1.021652 -0.178984 -0.589534\n",
       "2013-01-03  0.324837 -0.475097 -2.147350  0.587486"
      ]
     },
     "execution_count": 48,
     "metadata": {},
     "output_type": "execute_result"
    }
   ],
   "source": [
    "df[df.A > 0]"
   ]
  },
  {
   "cell_type": "markdown",
   "metadata": {},
   "source": [
    "데이터를 복사하려면 copy()"
   ]
  },
  {
   "cell_type": "code",
   "execution_count": 49,
   "metadata": {
    "collapsed": false
   },
   "outputs": [
    {
     "data": {
      "text/html": [
       "<div>\n",
       "<table border=\"1\" class=\"dataframe\">\n",
       "  <thead>\n",
       "    <tr style=\"text-align: right;\">\n",
       "      <th></th>\n",
       "      <th>A</th>\n",
       "      <th>B</th>\n",
       "      <th>C</th>\n",
       "      <th>D</th>\n",
       "      <th>E</th>\n",
       "    </tr>\n",
       "  </thead>\n",
       "  <tbody>\n",
       "    <tr>\n",
       "      <th>2013-01-01</th>\n",
       "      <td>0.318684</td>\n",
       "      <td>0.767959</td>\n",
       "      <td>1.479689</td>\n",
       "      <td>-0.336243</td>\n",
       "      <td>one</td>\n",
       "    </tr>\n",
       "    <tr>\n",
       "      <th>2013-01-02</th>\n",
       "      <td>0.442559</td>\n",
       "      <td>-1.021652</td>\n",
       "      <td>-0.178984</td>\n",
       "      <td>-0.589534</td>\n",
       "      <td>one</td>\n",
       "    </tr>\n",
       "    <tr>\n",
       "      <th>2013-01-03</th>\n",
       "      <td>0.324837</td>\n",
       "      <td>-0.475097</td>\n",
       "      <td>-2.147350</td>\n",
       "      <td>0.587486</td>\n",
       "      <td>two</td>\n",
       "    </tr>\n",
       "    <tr>\n",
       "      <th>2013-01-04</th>\n",
       "      <td>-0.702213</td>\n",
       "      <td>0.492265</td>\n",
       "      <td>-0.508335</td>\n",
       "      <td>-1.098786</td>\n",
       "      <td>three</td>\n",
       "    </tr>\n",
       "    <tr>\n",
       "      <th>2013-01-05</th>\n",
       "      <td>-1.239646</td>\n",
       "      <td>-0.506329</td>\n",
       "      <td>0.250828</td>\n",
       "      <td>0.435809</td>\n",
       "      <td>four</td>\n",
       "    </tr>\n",
       "    <tr>\n",
       "      <th>2013-01-06</th>\n",
       "      <td>-1.353425</td>\n",
       "      <td>-0.771643</td>\n",
       "      <td>1.634625</td>\n",
       "      <td>-0.431460</td>\n",
       "      <td>three</td>\n",
       "    </tr>\n",
       "  </tbody>\n",
       "</table>\n",
       "</div>"
      ],
      "text/plain": [
       "                   A         B         C         D      E\n",
       "2013-01-01  0.318684  0.767959  1.479689 -0.336243    one\n",
       "2013-01-02  0.442559 -1.021652 -0.178984 -0.589534    one\n",
       "2013-01-03  0.324837 -0.475097 -2.147350  0.587486    two\n",
       "2013-01-04 -0.702213  0.492265 -0.508335 -1.098786  three\n",
       "2013-01-05 -1.239646 -0.506329  0.250828  0.435809   four\n",
       "2013-01-06 -1.353425 -0.771643  1.634625 -0.431460  three"
      ]
     },
     "execution_count": 49,
     "metadata": {},
     "output_type": "execute_result"
    }
   ],
   "source": [
    "df2 = df.copy()\n",
    "df2['E'] = ['one', 'one','two','three','four','three']\n",
    "df2"
   ]
  },
  {
   "cell_type": "markdown",
   "metadata": {},
   "source": [
    "isin()을 사용하면 해당 값이 있는 것만 추려온다. "
   ]
  },
  {
   "cell_type": "code",
   "execution_count": 50,
   "metadata": {
    "collapsed": false
   },
   "outputs": [
    {
     "data": {
      "text/html": [
       "<div>\n",
       "<table border=\"1\" class=\"dataframe\">\n",
       "  <thead>\n",
       "    <tr style=\"text-align: right;\">\n",
       "      <th></th>\n",
       "      <th>A</th>\n",
       "      <th>B</th>\n",
       "      <th>C</th>\n",
       "      <th>D</th>\n",
       "      <th>E</th>\n",
       "    </tr>\n",
       "  </thead>\n",
       "  <tbody>\n",
       "    <tr>\n",
       "      <th>2013-01-03</th>\n",
       "      <td>0.324837</td>\n",
       "      <td>-0.475097</td>\n",
       "      <td>-2.147350</td>\n",
       "      <td>0.587486</td>\n",
       "      <td>two</td>\n",
       "    </tr>\n",
       "    <tr>\n",
       "      <th>2013-01-05</th>\n",
       "      <td>-1.239646</td>\n",
       "      <td>-0.506329</td>\n",
       "      <td>0.250828</td>\n",
       "      <td>0.435809</td>\n",
       "      <td>four</td>\n",
       "    </tr>\n",
       "  </tbody>\n",
       "</table>\n",
       "</div>"
      ],
      "text/plain": [
       "                   A         B         C         D     E\n",
       "2013-01-03  0.324837 -0.475097 -2.147350  0.587486   two\n",
       "2013-01-05 -1.239646 -0.506329  0.250828  0.435809  four"
      ]
     },
     "execution_count": 50,
     "metadata": {},
     "output_type": "execute_result"
    }
   ],
   "source": [
    "df2[df2['E'].isin(['two','four'])]"
   ]
  },
  {
   "cell_type": "markdown",
   "metadata": {},
   "source": [
    "Pandas는 결측값으로 np.nan을 사용한다. 데이터를 reindex하고 E컬럼을 추가하면 np.nan이 된다(값이 없어서). 기존에 있던 데이터 프레임에 값을 주려면 loc를 사용한다. 나머지 결측값은 NaN으로 표시된다."
   ]
  },
  {
   "cell_type": "code",
   "execution_count": 52,
   "metadata": {
    "collapsed": false
   },
   "outputs": [
    {
     "data": {
      "text/html": [
       "<div>\n",
       "<table border=\"1\" class=\"dataframe\">\n",
       "  <thead>\n",
       "    <tr style=\"text-align: right;\">\n",
       "      <th></th>\n",
       "      <th>A</th>\n",
       "      <th>B</th>\n",
       "      <th>C</th>\n",
       "      <th>D</th>\n",
       "      <th>E</th>\n",
       "    </tr>\n",
       "  </thead>\n",
       "  <tbody>\n",
       "    <tr>\n",
       "      <th>2013-01-01</th>\n",
       "      <td>0.318684</td>\n",
       "      <td>0.767959</td>\n",
       "      <td>1.479689</td>\n",
       "      <td>-0.336243</td>\n",
       "      <td>1.0</td>\n",
       "    </tr>\n",
       "    <tr>\n",
       "      <th>2013-01-02</th>\n",
       "      <td>0.442559</td>\n",
       "      <td>-1.021652</td>\n",
       "      <td>-0.178984</td>\n",
       "      <td>-0.589534</td>\n",
       "      <td>1.0</td>\n",
       "    </tr>\n",
       "    <tr>\n",
       "      <th>2013-01-03</th>\n",
       "      <td>0.324837</td>\n",
       "      <td>-0.475097</td>\n",
       "      <td>-2.147350</td>\n",
       "      <td>0.587486</td>\n",
       "      <td>NaN</td>\n",
       "    </tr>\n",
       "    <tr>\n",
       "      <th>2013-01-04</th>\n",
       "      <td>-0.702213</td>\n",
       "      <td>0.492265</td>\n",
       "      <td>-0.508335</td>\n",
       "      <td>-1.098786</td>\n",
       "      <td>NaN</td>\n",
       "    </tr>\n",
       "  </tbody>\n",
       "</table>\n",
       "</div>"
      ],
      "text/plain": [
       "                   A         B         C         D    E\n",
       "2013-01-01  0.318684  0.767959  1.479689 -0.336243  1.0\n",
       "2013-01-02  0.442559 -1.021652 -0.178984 -0.589534  1.0\n",
       "2013-01-03  0.324837 -0.475097 -2.147350  0.587486  NaN\n",
       "2013-01-04 -0.702213  0.492265 -0.508335 -1.098786  NaN"
      ]
     },
     "execution_count": 52,
     "metadata": {},
     "output_type": "execute_result"
    }
   ],
   "source": [
    "df1 = df.reindex(index=dates[0:4], columns=list(df.columns) + ['E'])\n",
    "df1.loc[dates[0]:dates[1],'E'] = 1\n",
    "df1"
   ]
  },
  {
   "cell_type": "markdown",
   "metadata": {},
   "source": [
    "결측값을 빼려면 dropna(how='any')"
   ]
  },
  {
   "cell_type": "code",
   "execution_count": 53,
   "metadata": {
    "collapsed": false
   },
   "outputs": [
    {
     "data": {
      "text/html": [
       "<div>\n",
       "<table border=\"1\" class=\"dataframe\">\n",
       "  <thead>\n",
       "    <tr style=\"text-align: right;\">\n",
       "      <th></th>\n",
       "      <th>A</th>\n",
       "      <th>B</th>\n",
       "      <th>C</th>\n",
       "      <th>D</th>\n",
       "      <th>E</th>\n",
       "    </tr>\n",
       "  </thead>\n",
       "  <tbody>\n",
       "    <tr>\n",
       "      <th>2013-01-01</th>\n",
       "      <td>0.318684</td>\n",
       "      <td>0.767959</td>\n",
       "      <td>1.479689</td>\n",
       "      <td>-0.336243</td>\n",
       "      <td>1.0</td>\n",
       "    </tr>\n",
       "    <tr>\n",
       "      <th>2013-01-02</th>\n",
       "      <td>0.442559</td>\n",
       "      <td>-1.021652</td>\n",
       "      <td>-0.178984</td>\n",
       "      <td>-0.589534</td>\n",
       "      <td>1.0</td>\n",
       "    </tr>\n",
       "  </tbody>\n",
       "</table>\n",
       "</div>"
      ],
      "text/plain": [
       "                   A         B         C         D    E\n",
       "2013-01-01  0.318684  0.767959  1.479689 -0.336243  1.0\n",
       "2013-01-02  0.442559 -1.021652 -0.178984 -0.589534  1.0"
      ]
     },
     "execution_count": 53,
     "metadata": {},
     "output_type": "execute_result"
    }
   ],
   "source": [
    "     df1.dropna(how='any')"
   ]
  },
  {
   "cell_type": "markdown",
   "metadata": {},
   "source": [
    "결측값을 채우려면 fillna(value=)를 사용한다."
   ]
  },
  {
   "cell_type": "code",
   "execution_count": 54,
   "metadata": {
    "collapsed": false
   },
   "outputs": [
    {
     "data": {
      "text/html": [
       "<div>\n",
       "<table border=\"1\" class=\"dataframe\">\n",
       "  <thead>\n",
       "    <tr style=\"text-align: right;\">\n",
       "      <th></th>\n",
       "      <th>A</th>\n",
       "      <th>B</th>\n",
       "      <th>C</th>\n",
       "      <th>D</th>\n",
       "      <th>E</th>\n",
       "    </tr>\n",
       "  </thead>\n",
       "  <tbody>\n",
       "    <tr>\n",
       "      <th>2013-01-01</th>\n",
       "      <td>0.318684</td>\n",
       "      <td>0.767959</td>\n",
       "      <td>1.479689</td>\n",
       "      <td>-0.336243</td>\n",
       "      <td>1.0</td>\n",
       "    </tr>\n",
       "    <tr>\n",
       "      <th>2013-01-02</th>\n",
       "      <td>0.442559</td>\n",
       "      <td>-1.021652</td>\n",
       "      <td>-0.178984</td>\n",
       "      <td>-0.589534</td>\n",
       "      <td>1.0</td>\n",
       "    </tr>\n",
       "    <tr>\n",
       "      <th>2013-01-03</th>\n",
       "      <td>0.324837</td>\n",
       "      <td>-0.475097</td>\n",
       "      <td>-2.147350</td>\n",
       "      <td>0.587486</td>\n",
       "      <td>5.0</td>\n",
       "    </tr>\n",
       "    <tr>\n",
       "      <th>2013-01-04</th>\n",
       "      <td>-0.702213</td>\n",
       "      <td>0.492265</td>\n",
       "      <td>-0.508335</td>\n",
       "      <td>-1.098786</td>\n",
       "      <td>5.0</td>\n",
       "    </tr>\n",
       "  </tbody>\n",
       "</table>\n",
       "</div>"
      ],
      "text/plain": [
       "                   A         B         C         D    E\n",
       "2013-01-01  0.318684  0.767959  1.479689 -0.336243  1.0\n",
       "2013-01-02  0.442559 -1.021652 -0.178984 -0.589534  1.0\n",
       "2013-01-03  0.324837 -0.475097 -2.147350  0.587486  5.0\n",
       "2013-01-04 -0.702213  0.492265 -0.508335 -1.098786  5.0"
      ]
     },
     "execution_count": 54,
     "metadata": {},
     "output_type": "execute_result"
    }
   ],
   "source": [
    " df1.fillna(value=5)"
   ]
  },
  {
   "cell_type": "markdown",
   "metadata": {},
   "source": [
    "np.nan을 검사하는 명령어는 isnull()이다. 값 별로 True/False로 표시한다."
   ]
  },
  {
   "cell_type": "code",
   "execution_count": 55,
   "metadata": {
    "collapsed": false
   },
   "outputs": [
    {
     "data": {
      "text/html": [
       "<div>\n",
       "<table border=\"1\" class=\"dataframe\">\n",
       "  <thead>\n",
       "    <tr style=\"text-align: right;\">\n",
       "      <th></th>\n",
       "      <th>A</th>\n",
       "      <th>B</th>\n",
       "      <th>C</th>\n",
       "      <th>D</th>\n",
       "      <th>E</th>\n",
       "    </tr>\n",
       "  </thead>\n",
       "  <tbody>\n",
       "    <tr>\n",
       "      <th>2013-01-01</th>\n",
       "      <td>False</td>\n",
       "      <td>False</td>\n",
       "      <td>False</td>\n",
       "      <td>False</td>\n",
       "      <td>False</td>\n",
       "    </tr>\n",
       "    <tr>\n",
       "      <th>2013-01-02</th>\n",
       "      <td>False</td>\n",
       "      <td>False</td>\n",
       "      <td>False</td>\n",
       "      <td>False</td>\n",
       "      <td>False</td>\n",
       "    </tr>\n",
       "    <tr>\n",
       "      <th>2013-01-03</th>\n",
       "      <td>False</td>\n",
       "      <td>False</td>\n",
       "      <td>False</td>\n",
       "      <td>False</td>\n",
       "      <td>True</td>\n",
       "    </tr>\n",
       "    <tr>\n",
       "      <th>2013-01-04</th>\n",
       "      <td>False</td>\n",
       "      <td>False</td>\n",
       "      <td>False</td>\n",
       "      <td>False</td>\n",
       "      <td>True</td>\n",
       "    </tr>\n",
       "  </tbody>\n",
       "</table>\n",
       "</div>"
      ],
      "text/plain": [
       "                A      B      C      D      E\n",
       "2013-01-01  False  False  False  False  False\n",
       "2013-01-02  False  False  False  False  False\n",
       "2013-01-03  False  False  False  False   True\n",
       "2013-01-04  False  False  False  False   True"
      ]
     },
     "execution_count": 55,
     "metadata": {},
     "output_type": "execute_result"
    }
   ],
   "source": [
    " pd.isnull(df1)"
   ]
  },
  {
   "cell_type": "markdown",
   "metadata": {},
   "source": [
    "열의 평균을 구한다. default=0 (열), 행이면 1이다."
   ]
  },
  {
   "cell_type": "code",
   "execution_count": 56,
   "metadata": {
    "collapsed": false
   },
   "outputs": [
    {
     "data": {
      "text/plain": [
       "A   -0.368201\n",
       "B   -0.252416\n",
       "C    0.088412\n",
       "D   -0.238788\n",
       "dtype: float64"
      ]
     },
     "execution_count": 56,
     "metadata": {},
     "output_type": "execute_result"
    }
   ],
   "source": [
    "df.mean()"
   ]
  },
  {
   "cell_type": "code",
   "execution_count": 57,
   "metadata": {
    "collapsed": false
   },
   "outputs": [
    {
     "data": {
      "text/plain": [
       "2013-01-01    0.557522\n",
       "2013-01-02   -0.336903\n",
       "2013-01-03   -0.427531\n",
       "2013-01-04   -0.454267\n",
       "2013-01-05   -0.264834\n",
       "2013-01-06   -0.230476\n",
       "Freq: D, dtype: float64"
      ]
     },
     "execution_count": 57,
     "metadata": {},
     "output_type": "execute_result"
    }
   ],
   "source": [
    "df.mean(1)"
   ]
  },
  {
   "cell_type": "markdown",
   "metadata": {},
   "source": [
    "차원이 다른 것들 사이에서는 저절로 길이를 맞춘다."
   ]
  },
  {
   "cell_type": "code",
   "execution_count": 61,
   "metadata": {
    "collapsed": false
   },
   "outputs": [
    {
     "data": {
      "text/plain": [
       "2013-01-01    1.0\n",
       "2013-01-02    3.0\n",
       "2013-01-03    5.0\n",
       "2013-01-04    NaN\n",
       "2013-01-05    6.0\n",
       "2013-01-06    8.0\n",
       "Freq: D, dtype: float64"
      ]
     },
     "execution_count": 61,
     "metadata": {},
     "output_type": "execute_result"
    }
   ],
   "source": [
    "s = pd.Series([1,3,5,np.nan,6,8], index=dates).shift(0)\n",
    "s"
   ]
  },
  {
   "cell_type": "code",
   "execution_count": 62,
   "metadata": {
    "collapsed": false
   },
   "outputs": [
    {
     "data": {
      "text/plain": [
       "2013-01-01    NaN\n",
       "2013-01-02    1.0\n",
       "2013-01-03    3.0\n",
       "2013-01-04    5.0\n",
       "2013-01-05    NaN\n",
       "2013-01-06    6.0\n",
       "Freq: D, dtype: float64"
      ]
     },
     "execution_count": 62,
     "metadata": {},
     "output_type": "execute_result"
    }
   ],
   "source": [
    "s = pd.Series([1,3,5,np.nan,6,8], index=dates).shift(1)\n",
    "s"
   ]
  },
  {
   "cell_type": "code",
   "execution_count": 63,
   "metadata": {
    "collapsed": false
   },
   "outputs": [
    {
     "data": {
      "text/plain": [
       "2013-01-01    NaN\n",
       "2013-01-02    NaN\n",
       "2013-01-03    1.0\n",
       "2013-01-04    3.0\n",
       "2013-01-05    5.0\n",
       "2013-01-06    NaN\n",
       "Freq: D, dtype: float64"
      ]
     },
     "execution_count": 63,
     "metadata": {},
     "output_type": "execute_result"
    }
   ],
   "source": [
    "s = pd.Series([1,3,5,np.nan,6,8], index=dates).shift(2)\n",
    "s"
   ]
  },
  {
   "cell_type": "markdown",
   "metadata": {},
   "source": [
    "행을 기준으로 값을 빼보자."
   ]
  },
  {
   "cell_type": "code",
   "execution_count": 64,
   "metadata": {
    "collapsed": false
   },
   "outputs": [
    {
     "data": {
      "text/html": [
       "<div>\n",
       "<table border=\"1\" class=\"dataframe\">\n",
       "  <thead>\n",
       "    <tr style=\"text-align: right;\">\n",
       "      <th></th>\n",
       "      <th>A</th>\n",
       "      <th>B</th>\n",
       "      <th>C</th>\n",
       "      <th>D</th>\n",
       "    </tr>\n",
       "  </thead>\n",
       "  <tbody>\n",
       "    <tr>\n",
       "      <th>2013-01-01</th>\n",
       "      <td>NaN</td>\n",
       "      <td>NaN</td>\n",
       "      <td>NaN</td>\n",
       "      <td>NaN</td>\n",
       "    </tr>\n",
       "    <tr>\n",
       "      <th>2013-01-02</th>\n",
       "      <td>NaN</td>\n",
       "      <td>NaN</td>\n",
       "      <td>NaN</td>\n",
       "      <td>NaN</td>\n",
       "    </tr>\n",
       "    <tr>\n",
       "      <th>2013-01-03</th>\n",
       "      <td>-0.675163</td>\n",
       "      <td>-1.475097</td>\n",
       "      <td>-3.147350</td>\n",
       "      <td>-0.412514</td>\n",
       "    </tr>\n",
       "    <tr>\n",
       "      <th>2013-01-04</th>\n",
       "      <td>-3.702213</td>\n",
       "      <td>-2.507735</td>\n",
       "      <td>-3.508335</td>\n",
       "      <td>-4.098786</td>\n",
       "    </tr>\n",
       "    <tr>\n",
       "      <th>2013-01-05</th>\n",
       "      <td>-6.239646</td>\n",
       "      <td>-5.506329</td>\n",
       "      <td>-4.749172</td>\n",
       "      <td>-4.564191</td>\n",
       "    </tr>\n",
       "    <tr>\n",
       "      <th>2013-01-06</th>\n",
       "      <td>NaN</td>\n",
       "      <td>NaN</td>\n",
       "      <td>NaN</td>\n",
       "      <td>NaN</td>\n",
       "    </tr>\n",
       "  </tbody>\n",
       "</table>\n",
       "</div>"
      ],
      "text/plain": [
       "                   A         B         C         D\n",
       "2013-01-01       NaN       NaN       NaN       NaN\n",
       "2013-01-02       NaN       NaN       NaN       NaN\n",
       "2013-01-03 -0.675163 -1.475097 -3.147350 -0.412514\n",
       "2013-01-04 -3.702213 -2.507735 -3.508335 -4.098786\n",
       "2013-01-05 -6.239646 -5.506329 -4.749172 -4.564191\n",
       "2013-01-06       NaN       NaN       NaN       NaN"
      ]
     },
     "execution_count": 64,
     "metadata": {},
     "output_type": "execute_result"
    }
   ],
   "source": [
    " df.sub(s, axis='index')"
   ]
  },
  {
   "cell_type": "code",
   "execution_count": 68,
   "metadata": {
    "collapsed": false
   },
   "outputs": [
    {
     "data": {
      "text/html": [
       "<div>\n",
       "<table border=\"1\" class=\"dataframe\">\n",
       "  <thead>\n",
       "    <tr style=\"text-align: right;\">\n",
       "      <th></th>\n",
       "      <th>A</th>\n",
       "      <th>B</th>\n",
       "      <th>C</th>\n",
       "      <th>D</th>\n",
       "    </tr>\n",
       "  </thead>\n",
       "  <tbody>\n",
       "    <tr>\n",
       "      <th>2013-01-01</th>\n",
       "      <td>0.318684</td>\n",
       "      <td>0.767959</td>\n",
       "      <td>1.479689</td>\n",
       "      <td>-0.336243</td>\n",
       "    </tr>\n",
       "    <tr>\n",
       "      <th>2013-01-02</th>\n",
       "      <td>0.442559</td>\n",
       "      <td>-1.021652</td>\n",
       "      <td>-0.178984</td>\n",
       "      <td>-0.589534</td>\n",
       "    </tr>\n",
       "    <tr>\n",
       "      <th>2013-01-03</th>\n",
       "      <td>0.324837</td>\n",
       "      <td>-0.475097</td>\n",
       "      <td>-2.147350</td>\n",
       "      <td>0.587486</td>\n",
       "    </tr>\n",
       "    <tr>\n",
       "      <th>2013-01-04</th>\n",
       "      <td>-0.702213</td>\n",
       "      <td>0.492265</td>\n",
       "      <td>-0.508335</td>\n",
       "      <td>-1.098786</td>\n",
       "    </tr>\n",
       "    <tr>\n",
       "      <th>2013-01-05</th>\n",
       "      <td>-1.239646</td>\n",
       "      <td>-0.506329</td>\n",
       "      <td>0.250828</td>\n",
       "      <td>0.435809</td>\n",
       "    </tr>\n",
       "    <tr>\n",
       "      <th>2013-01-06</th>\n",
       "      <td>-1.353425</td>\n",
       "      <td>-0.771643</td>\n",
       "      <td>1.634625</td>\n",
       "      <td>-0.431460</td>\n",
       "    </tr>\n",
       "  </tbody>\n",
       "</table>\n",
       "</div>"
      ],
      "text/plain": [
       "                   A         B         C         D\n",
       "2013-01-01  0.318684  0.767959  1.479689 -0.336243\n",
       "2013-01-02  0.442559 -1.021652 -0.178984 -0.589534\n",
       "2013-01-03  0.324837 -0.475097 -2.147350  0.587486\n",
       "2013-01-04 -0.702213  0.492265 -0.508335 -1.098786\n",
       "2013-01-05 -1.239646 -0.506329  0.250828  0.435809\n",
       "2013-01-06 -1.353425 -0.771643  1.634625 -0.431460"
      ]
     },
     "execution_count": 68,
     "metadata": {},
     "output_type": "execute_result"
    }
   ],
   "source": [
    "df"
   ]
  },
  {
   "cell_type": "markdown",
   "metadata": {},
   "source": [
    "함수를 열에 적용하려면 apply를 사용한다. 누적합을 구하는 np.cumsum() 적용 사례"
   ]
  },
  {
   "cell_type": "code",
   "execution_count": 66,
   "metadata": {
    "collapsed": false
   },
   "outputs": [
    {
     "data": {
      "text/html": [
       "<div>\n",
       "<table border=\"1\" class=\"dataframe\">\n",
       "  <thead>\n",
       "    <tr style=\"text-align: right;\">\n",
       "      <th></th>\n",
       "      <th>A</th>\n",
       "      <th>B</th>\n",
       "      <th>C</th>\n",
       "      <th>D</th>\n",
       "    </tr>\n",
       "  </thead>\n",
       "  <tbody>\n",
       "    <tr>\n",
       "      <th>2013-01-01</th>\n",
       "      <td>0.318684</td>\n",
       "      <td>0.767959</td>\n",
       "      <td>1.479689</td>\n",
       "      <td>-0.336243</td>\n",
       "    </tr>\n",
       "    <tr>\n",
       "      <th>2013-01-02</th>\n",
       "      <td>0.761243</td>\n",
       "      <td>-0.253693</td>\n",
       "      <td>1.300705</td>\n",
       "      <td>-0.925777</td>\n",
       "    </tr>\n",
       "    <tr>\n",
       "      <th>2013-01-03</th>\n",
       "      <td>1.086080</td>\n",
       "      <td>-0.728790</td>\n",
       "      <td>-0.846644</td>\n",
       "      <td>-0.338291</td>\n",
       "    </tr>\n",
       "    <tr>\n",
       "      <th>2013-01-04</th>\n",
       "      <td>0.383867</td>\n",
       "      <td>-0.236526</td>\n",
       "      <td>-1.354980</td>\n",
       "      <td>-1.437077</td>\n",
       "    </tr>\n",
       "    <tr>\n",
       "      <th>2013-01-05</th>\n",
       "      <td>-0.855778</td>\n",
       "      <td>-0.742854</td>\n",
       "      <td>-1.104152</td>\n",
       "      <td>-1.001268</td>\n",
       "    </tr>\n",
       "    <tr>\n",
       "      <th>2013-01-06</th>\n",
       "      <td>-2.209203</td>\n",
       "      <td>-1.514497</td>\n",
       "      <td>0.530473</td>\n",
       "      <td>-1.432729</td>\n",
       "    </tr>\n",
       "  </tbody>\n",
       "</table>\n",
       "</div>"
      ],
      "text/plain": [
       "                   A         B         C         D\n",
       "2013-01-01  0.318684  0.767959  1.479689 -0.336243\n",
       "2013-01-02  0.761243 -0.253693  1.300705 -0.925777\n",
       "2013-01-03  1.086080 -0.728790 -0.846644 -0.338291\n",
       "2013-01-04  0.383867 -0.236526 -1.354980 -1.437077\n",
       "2013-01-05 -0.855778 -0.742854 -1.104152 -1.001268\n",
       "2013-01-06 -2.209203 -1.514497  0.530473 -1.432729"
      ]
     },
     "execution_count": 66,
     "metadata": {},
     "output_type": "execute_result"
    }
   ],
   "source": [
    "df.apply(np.cumsum)"
   ]
  },
  {
   "cell_type": "markdown",
   "metadata": {},
   "source": [
    "열에 적용하는 함수를 직접 lambda로 만든 사례"
   ]
  },
  {
   "cell_type": "code",
   "execution_count": 67,
   "metadata": {
    "collapsed": false
   },
   "outputs": [
    {
     "data": {
      "text/plain": [
       "A    1.795984\n",
       "B    1.789610\n",
       "C    3.781974\n",
       "D    1.686272\n",
       "dtype: float64"
      ]
     },
     "execution_count": 67,
     "metadata": {},
     "output_type": "execute_result"
    }
   ],
   "source": [
    "df.apply(lambda x: x.max() - x.min())"
   ]
  },
  {
   "cell_type": "markdown",
   "metadata": {},
   "source": [
    "정수 난수인 np.random.randint()를 써서 10개(size)의 임의 수를 만든다."
   ]
  },
  {
   "cell_type": "code",
   "execution_count": 69,
   "metadata": {
    "collapsed": true
   },
   "outputs": [],
   "source": [
    "s = pd.Series(np.random.randint(0, 7, size=10))"
   ]
  },
  {
   "cell_type": "code",
   "execution_count": 70,
   "metadata": {
    "collapsed": false
   },
   "outputs": [
    {
     "data": {
      "text/plain": [
       "0    3\n",
       "1    2\n",
       "2    6\n",
       "3    6\n",
       "4    0\n",
       "5    5\n",
       "6    4\n",
       "7    4\n",
       "8    0\n",
       "9    2\n",
       "dtype: int32"
      ]
     },
     "execution_count": 70,
     "metadata": {},
     "output_type": "execute_result"
    }
   ],
   "source": [
    "s"
   ]
  },
  {
   "cell_type": "markdown",
   "metadata": {},
   "source": [
    "R의 table()과 같이 해당 도수를 세어보자."
   ]
  },
  {
   "cell_type": "code",
   "execution_count": 71,
   "metadata": {
    "collapsed": false
   },
   "outputs": [
    {
     "data": {
      "text/plain": [
       "6    2\n",
       "4    2\n",
       "2    2\n",
       "0    2\n",
       "5    1\n",
       "3    1\n",
       "dtype: int64"
      ]
     },
     "execution_count": 71,
     "metadata": {},
     "output_type": "execute_result"
    }
   ],
   "source": [
    "s.value_counts()"
   ]
  },
  {
   "cell_type": "code",
   "execution_count": 72,
   "metadata": {
    "collapsed": true
   },
   "outputs": [],
   "source": [
    "s = pd.Series(['A', 'B', 'C', 'Aaba', 'Baca', np.nan, 'CABA', 'dog', 'cat'])"
   ]
  },
  {
   "cell_type": "code",
   "execution_count": 73,
   "metadata": {
    "collapsed": false
   },
   "outputs": [
    {
     "data": {
      "text/plain": [
       "0       a\n",
       "1       b\n",
       "2       c\n",
       "3    aaba\n",
       "4    baca\n",
       "5     NaN\n",
       "6    caba\n",
       "7     dog\n",
       "8     cat\n",
       "dtype: object"
      ]
     },
     "execution_count": 73,
     "metadata": {},
     "output_type": "execute_result"
    }
   ],
   "source": [
    "s.str.lower()"
   ]
  },
  {
   "cell_type": "code",
   "execution_count": 74,
   "metadata": {
    "collapsed": false
   },
   "outputs": [
    {
     "data": {
      "text/plain": [
       "0       A\n",
       "1       B\n",
       "2       C\n",
       "3    AABA\n",
       "4    BACA\n",
       "5     NaN\n",
       "6    CABA\n",
       "7     DOG\n",
       "8     CAT\n",
       "dtype: object"
      ]
     },
     "execution_count": 74,
     "metadata": {},
     "output_type": "execute_result"
    }
   ],
   "source": [
    "s.str.upper()"
   ]
  },
  {
   "cell_type": "code",
   "execution_count": 75,
   "metadata": {
    "collapsed": false
   },
   "outputs": [
    {
     "data": {
      "text/plain": [
       "0    1.0\n",
       "1    1.0\n",
       "2    1.0\n",
       "3    4.0\n",
       "4    4.0\n",
       "5    NaN\n",
       "6    4.0\n",
       "7    3.0\n",
       "8    3.0\n",
       "dtype: float64"
      ]
     },
     "execution_count": 75,
     "metadata": {},
     "output_type": "execute_result"
    }
   ],
   "source": [
    "s.str.len()"
   ]
  },
  {
   "cell_type": "code",
   "execution_count": 76,
   "metadata": {
    "collapsed": true
   },
   "outputs": [],
   "source": [
    "idx = pd.Index([' jack', 'jill ', ' jesse ', 'frank'])"
   ]
  },
  {
   "cell_type": "code",
   "execution_count": 77,
   "metadata": {
    "collapsed": false
   },
   "outputs": [
    {
     "data": {
      "text/plain": [
       "Index(['jack', 'jill', 'jesse', 'frank'], dtype='object')"
      ]
     },
     "execution_count": 77,
     "metadata": {},
     "output_type": "execute_result"
    }
   ],
   "source": [
    "idx.str.strip()"
   ]
  },
  {
   "cell_type": "code",
   "execution_count": 78,
   "metadata": {
    "collapsed": false
   },
   "outputs": [
    {
     "data": {
      "text/plain": [
       "Index(['jack', 'jill ', 'jesse ', 'frank'], dtype='object')"
      ]
     },
     "execution_count": 78,
     "metadata": {},
     "output_type": "execute_result"
    }
   ],
   "source": [
    "idx.str.lstrip()"
   ]
  },
  {
   "cell_type": "code",
   "execution_count": 79,
   "metadata": {
    "collapsed": false
   },
   "outputs": [
    {
     "data": {
      "text/plain": [
       "Index([' jack', 'jill', ' jesse', 'frank'], dtype='object')"
      ]
     },
     "execution_count": 79,
     "metadata": {},
     "output_type": "execute_result"
    }
   ],
   "source": [
    "idx.str.rstrip()"
   ]
  },
  {
   "cell_type": "code",
   "execution_count": 80,
   "metadata": {
    "collapsed": true
   },
   "outputs": [],
   "source": [
    "s2 = pd.Series(['a_b_c', 'c_d_e', np.nan, 'f_g_h'])"
   ]
  },
  {
   "cell_type": "code",
   "execution_count": 81,
   "metadata": {
    "collapsed": false
   },
   "outputs": [
    {
     "data": {
      "text/plain": [
       "0    [a, b, c]\n",
       "1    [c, d, e]\n",
       "2          NaN\n",
       "3    [f, g, h]\n",
       "dtype: object"
      ]
     },
     "execution_count": 81,
     "metadata": {},
     "output_type": "execute_result"
    }
   ],
   "source": [
    "s2.str.split('_')"
   ]
  },
  {
   "cell_type": "code",
   "execution_count": 82,
   "metadata": {
    "collapsed": false
   },
   "outputs": [
    {
     "data": {
      "text/plain": [
       "0      b\n",
       "1      d\n",
       "2    NaN\n",
       "3      g\n",
       "dtype: object"
      ]
     },
     "execution_count": 82,
     "metadata": {},
     "output_type": "execute_result"
    }
   ],
   "source": [
    "s2.str.split('_').str.get(1)"
   ]
  },
  {
   "cell_type": "code",
   "execution_count": 83,
   "metadata": {
    "collapsed": false
   },
   "outputs": [
    {
     "data": {
      "text/plain": [
       "0      b\n",
       "1      d\n",
       "2    NaN\n",
       "3      g\n",
       "dtype: object"
      ]
     },
     "execution_count": 83,
     "metadata": {},
     "output_type": "execute_result"
    }
   ],
   "source": [
    "s2.str.split('_').str[1]"
   ]
  },
  {
   "cell_type": "code",
   "execution_count": 84,
   "metadata": {
    "collapsed": false
   },
   "outputs": [
    {
     "data": {
      "text/html": [
       "<div>\n",
       "<table border=\"1\" class=\"dataframe\">\n",
       "  <thead>\n",
       "    <tr style=\"text-align: right;\">\n",
       "      <th></th>\n",
       "      <th>0</th>\n",
       "      <th>1</th>\n",
       "      <th>2</th>\n",
       "    </tr>\n",
       "  </thead>\n",
       "  <tbody>\n",
       "    <tr>\n",
       "      <th>0</th>\n",
       "      <td>a</td>\n",
       "      <td>b</td>\n",
       "      <td>c</td>\n",
       "    </tr>\n",
       "    <tr>\n",
       "      <th>1</th>\n",
       "      <td>c</td>\n",
       "      <td>d</td>\n",
       "      <td>e</td>\n",
       "    </tr>\n",
       "    <tr>\n",
       "      <th>2</th>\n",
       "      <td>NaN</td>\n",
       "      <td>None</td>\n",
       "      <td>None</td>\n",
       "    </tr>\n",
       "    <tr>\n",
       "      <th>3</th>\n",
       "      <td>f</td>\n",
       "      <td>g</td>\n",
       "      <td>h</td>\n",
       "    </tr>\n",
       "  </tbody>\n",
       "</table>\n",
       "</div>"
      ],
      "text/plain": [
       "     0     1     2\n",
       "0    a     b     c\n",
       "1    c     d     e\n",
       "2  NaN  None  None\n",
       "3    f     g     h"
      ]
     },
     "execution_count": 84,
     "metadata": {},
     "output_type": "execute_result"
    }
   ],
   "source": [
    " s2.str.split('_', expand=True)"
   ]
  },
  {
   "cell_type": "code",
   "execution_count": 85,
   "metadata": {
    "collapsed": false
   },
   "outputs": [
    {
     "data": {
      "text/html": [
       "<div>\n",
       "<table border=\"1\" class=\"dataframe\">\n",
       "  <thead>\n",
       "    <tr style=\"text-align: right;\">\n",
       "      <th></th>\n",
       "      <th>0</th>\n",
       "      <th>1</th>\n",
       "    </tr>\n",
       "  </thead>\n",
       "  <tbody>\n",
       "    <tr>\n",
       "      <th>0</th>\n",
       "      <td>a</td>\n",
       "      <td>b_c</td>\n",
       "    </tr>\n",
       "    <tr>\n",
       "      <th>1</th>\n",
       "      <td>c</td>\n",
       "      <td>d_e</td>\n",
       "    </tr>\n",
       "    <tr>\n",
       "      <th>2</th>\n",
       "      <td>NaN</td>\n",
       "      <td>None</td>\n",
       "    </tr>\n",
       "    <tr>\n",
       "      <th>3</th>\n",
       "      <td>f</td>\n",
       "      <td>g_h</td>\n",
       "    </tr>\n",
       "  </tbody>\n",
       "</table>\n",
       "</div>"
      ],
      "text/plain": [
       "     0     1\n",
       "0    a   b_c\n",
       "1    c   d_e\n",
       "2  NaN  None\n",
       "3    f   g_h"
      ]
     },
     "execution_count": 85,
     "metadata": {},
     "output_type": "execute_result"
    }
   ],
   "source": [
    " s2.str.split('_', expand=True, n=1)"
   ]
  },
  {
   "cell_type": "code",
   "execution_count": 86,
   "metadata": {
    "collapsed": true
   },
   "outputs": [],
   "source": [
    "s3 = pd.Series(['A', 'B', 'C', 'Aaba', 'Baca',\n",
    "   ....:                '', np.nan, 'CABA', 'dog', 'cat'])"
   ]
  },
  {
   "cell_type": "code",
   "execution_count": 87,
   "metadata": {
    "collapsed": false
   },
   "outputs": [
    {
     "data": {
      "text/plain": [
       "0           A\n",
       "1           B\n",
       "2           C\n",
       "3    XX-XX ba\n",
       "4    XX-XX ca\n",
       "5            \n",
       "6         NaN\n",
       "7    XX-XX BA\n",
       "8      XX-XX \n",
       "9     XX-XX t\n",
       "dtype: object"
      ]
     },
     "execution_count": 87,
     "metadata": {},
     "output_type": "execute_result"
    }
   ],
   "source": [
    "s3.str.replace('^.a|dog', 'XX-XX ', case=False)"
   ]
  },
  {
   "cell_type": "code",
   "execution_count": 88,
   "metadata": {
    "collapsed": false
   },
   "outputs": [
    {
     "data": {
      "text/plain": [
       "0         12\n",
       "1        -10\n",
       "2    $10,000\n",
       "dtype: object"
      ]
     },
     "execution_count": 88,
     "metadata": {},
     "output_type": "execute_result"
    }
   ],
   "source": [
    "dollars = pd.Series(['12', '-$10', '$10,000'])\n",
    "dollars.str.replace(r'-\\$', '-')"
   ]
  },
  {
   "cell_type": "code",
   "execution_count": 89,
   "metadata": {
    "collapsed": false
   },
   "outputs": [
    {
     "data": {
      "text/html": [
       "<div>\n",
       "<table border=\"1\" class=\"dataframe\">\n",
       "  <thead>\n",
       "    <tr style=\"text-align: right;\">\n",
       "      <th></th>\n",
       "      <th>letter</th>\n",
       "      <th>digit</th>\n",
       "    </tr>\n",
       "  </thead>\n",
       "  <tbody>\n",
       "    <tr>\n",
       "      <th>0</th>\n",
       "      <td>a</td>\n",
       "      <td>1</td>\n",
       "    </tr>\n",
       "    <tr>\n",
       "      <th>1</th>\n",
       "      <td>b</td>\n",
       "      <td>2</td>\n",
       "    </tr>\n",
       "    <tr>\n",
       "      <th>2</th>\n",
       "      <td>NaN</td>\n",
       "      <td>NaN</td>\n",
       "    </tr>\n",
       "  </tbody>\n",
       "</table>\n",
       "</div>"
      ],
      "text/plain": [
       "  letter digit\n",
       "0      a     1\n",
       "1      b     2\n",
       "2    NaN   NaN"
      ]
     },
     "execution_count": 89,
     "metadata": {},
     "output_type": "execute_result"
    }
   ],
   "source": [
    "pd.Series(['a1', 'b2', 'c3']).str.extract('(?P<letter>[ab])(?P<digit>\\d)', expand=False)"
   ]
  },
  {
   "cell_type": "code",
   "execution_count": 90,
   "metadata": {
    "collapsed": false
   },
   "outputs": [
    {
     "data": {
      "text/plain": [
       "0    False\n",
       "1    False\n",
       "2     True\n",
       "3     True\n",
       "4     True\n",
       "dtype: bool"
      ]
     },
     "execution_count": 90,
     "metadata": {},
     "output_type": "execute_result"
    }
   ],
   "source": [
    "pattern = r'[0-9][a-z]'\n",
    "pd.Series(['1', '2', '3a', '3b', '03c']).str.contains(pattern)"
   ]
  },
  {
   "cell_type": "code",
   "execution_count": 91,
   "metadata": {
    "collapsed": false
   },
   "outputs": [
    {
     "data": {
      "text/plain": [
       "0    False\n",
       "1    False\n",
       "2     True\n",
       "3     True\n",
       "4    False\n",
       "dtype: bool"
      ]
     },
     "execution_count": 91,
     "metadata": {},
     "output_type": "execute_result"
    }
   ],
   "source": [
    " pd.Series(['1', '2', '3a', '3b', '03c']).str.match(pattern)"
   ]
  },
  {
   "cell_type": "code",
   "execution_count": 92,
   "metadata": {
    "collapsed": true
   },
   "outputs": [],
   "source": [
    "df = pd.DataFrame(np.random.randn(10, 4))"
   ]
  },
  {
   "cell_type": "code",
   "execution_count": 93,
   "metadata": {
    "collapsed": false
   },
   "outputs": [
    {
     "data": {
      "text/html": [
       "<div>\n",
       "<table border=\"1\" class=\"dataframe\">\n",
       "  <thead>\n",
       "    <tr style=\"text-align: right;\">\n",
       "      <th></th>\n",
       "      <th>0</th>\n",
       "      <th>1</th>\n",
       "      <th>2</th>\n",
       "      <th>3</th>\n",
       "    </tr>\n",
       "  </thead>\n",
       "  <tbody>\n",
       "    <tr>\n",
       "      <th>0</th>\n",
       "      <td>-1.498788</td>\n",
       "      <td>0.957002</td>\n",
       "      <td>1.283227</td>\n",
       "      <td>1.136430</td>\n",
       "    </tr>\n",
       "    <tr>\n",
       "      <th>1</th>\n",
       "      <td>0.292670</td>\n",
       "      <td>0.194777</td>\n",
       "      <td>0.341233</td>\n",
       "      <td>0.149756</td>\n",
       "    </tr>\n",
       "    <tr>\n",
       "      <th>2</th>\n",
       "      <td>-1.386921</td>\n",
       "      <td>-0.851447</td>\n",
       "      <td>-0.131391</td>\n",
       "      <td>0.784466</td>\n",
       "    </tr>\n",
       "    <tr>\n",
       "      <th>3</th>\n",
       "      <td>-1.576786</td>\n",
       "      <td>0.920806</td>\n",
       "      <td>0.526340</td>\n",
       "      <td>-1.269490</td>\n",
       "    </tr>\n",
       "    <tr>\n",
       "      <th>4</th>\n",
       "      <td>0.603895</td>\n",
       "      <td>0.491596</td>\n",
       "      <td>1.795752</td>\n",
       "      <td>1.840963</td>\n",
       "    </tr>\n",
       "    <tr>\n",
       "      <th>5</th>\n",
       "      <td>0.164591</td>\n",
       "      <td>0.292783</td>\n",
       "      <td>-0.500270</td>\n",
       "      <td>-1.158657</td>\n",
       "    </tr>\n",
       "    <tr>\n",
       "      <th>6</th>\n",
       "      <td>1.298826</td>\n",
       "      <td>-1.349986</td>\n",
       "      <td>1.399268</td>\n",
       "      <td>0.309959</td>\n",
       "    </tr>\n",
       "    <tr>\n",
       "      <th>7</th>\n",
       "      <td>0.317740</td>\n",
       "      <td>0.232471</td>\n",
       "      <td>-0.067786</td>\n",
       "      <td>2.015385</td>\n",
       "    </tr>\n",
       "    <tr>\n",
       "      <th>8</th>\n",
       "      <td>0.258129</td>\n",
       "      <td>-1.944874</td>\n",
       "      <td>-1.631374</td>\n",
       "      <td>-0.534189</td>\n",
       "    </tr>\n",
       "    <tr>\n",
       "      <th>9</th>\n",
       "      <td>-2.180747</td>\n",
       "      <td>-0.195942</td>\n",
       "      <td>-0.056484</td>\n",
       "      <td>0.817883</td>\n",
       "    </tr>\n",
       "  </tbody>\n",
       "</table>\n",
       "</div>"
      ],
      "text/plain": [
       "          0         1         2         3\n",
       "0 -1.498788  0.957002  1.283227  1.136430\n",
       "1  0.292670  0.194777  0.341233  0.149756\n",
       "2 -1.386921 -0.851447 -0.131391  0.784466\n",
       "3 -1.576786  0.920806  0.526340 -1.269490\n",
       "4  0.603895  0.491596  1.795752  1.840963\n",
       "5  0.164591  0.292783 -0.500270 -1.158657\n",
       "6  1.298826 -1.349986  1.399268  0.309959\n",
       "7  0.317740  0.232471 -0.067786  2.015385\n",
       "8  0.258129 -1.944874 -1.631374 -0.534189\n",
       "9 -2.180747 -0.195942 -0.056484  0.817883"
      ]
     },
     "execution_count": 93,
     "metadata": {},
     "output_type": "execute_result"
    }
   ],
   "source": [
    "df"
   ]
  },
  {
   "cell_type": "markdown",
   "metadata": {},
   "source": [
    "쪼개보자."
   ]
  },
  {
   "cell_type": "code",
   "execution_count": 94,
   "metadata": {
    "collapsed": true
   },
   "outputs": [],
   "source": [
    "pieces = [df[:3], df[3:7], df[7:]]"
   ]
  },
  {
   "cell_type": "markdown",
   "metadata": {},
   "source": [
    "concat로 쉽게 합칠 수 있다."
   ]
  },
  {
   "cell_type": "code",
   "execution_count": 95,
   "metadata": {
    "collapsed": false
   },
   "outputs": [
    {
     "data": {
      "text/html": [
       "<div>\n",
       "<table border=\"1\" class=\"dataframe\">\n",
       "  <thead>\n",
       "    <tr style=\"text-align: right;\">\n",
       "      <th></th>\n",
       "      <th>0</th>\n",
       "      <th>1</th>\n",
       "      <th>2</th>\n",
       "      <th>3</th>\n",
       "    </tr>\n",
       "  </thead>\n",
       "  <tbody>\n",
       "    <tr>\n",
       "      <th>0</th>\n",
       "      <td>-1.498788</td>\n",
       "      <td>0.957002</td>\n",
       "      <td>1.283227</td>\n",
       "      <td>1.136430</td>\n",
       "    </tr>\n",
       "    <tr>\n",
       "      <th>1</th>\n",
       "      <td>0.292670</td>\n",
       "      <td>0.194777</td>\n",
       "      <td>0.341233</td>\n",
       "      <td>0.149756</td>\n",
       "    </tr>\n",
       "    <tr>\n",
       "      <th>2</th>\n",
       "      <td>-1.386921</td>\n",
       "      <td>-0.851447</td>\n",
       "      <td>-0.131391</td>\n",
       "      <td>0.784466</td>\n",
       "    </tr>\n",
       "    <tr>\n",
       "      <th>3</th>\n",
       "      <td>-1.576786</td>\n",
       "      <td>0.920806</td>\n",
       "      <td>0.526340</td>\n",
       "      <td>-1.269490</td>\n",
       "    </tr>\n",
       "    <tr>\n",
       "      <th>4</th>\n",
       "      <td>0.603895</td>\n",
       "      <td>0.491596</td>\n",
       "      <td>1.795752</td>\n",
       "      <td>1.840963</td>\n",
       "    </tr>\n",
       "    <tr>\n",
       "      <th>5</th>\n",
       "      <td>0.164591</td>\n",
       "      <td>0.292783</td>\n",
       "      <td>-0.500270</td>\n",
       "      <td>-1.158657</td>\n",
       "    </tr>\n",
       "    <tr>\n",
       "      <th>6</th>\n",
       "      <td>1.298826</td>\n",
       "      <td>-1.349986</td>\n",
       "      <td>1.399268</td>\n",
       "      <td>0.309959</td>\n",
       "    </tr>\n",
       "    <tr>\n",
       "      <th>7</th>\n",
       "      <td>0.317740</td>\n",
       "      <td>0.232471</td>\n",
       "      <td>-0.067786</td>\n",
       "      <td>2.015385</td>\n",
       "    </tr>\n",
       "    <tr>\n",
       "      <th>8</th>\n",
       "      <td>0.258129</td>\n",
       "      <td>-1.944874</td>\n",
       "      <td>-1.631374</td>\n",
       "      <td>-0.534189</td>\n",
       "    </tr>\n",
       "    <tr>\n",
       "      <th>9</th>\n",
       "      <td>-2.180747</td>\n",
       "      <td>-0.195942</td>\n",
       "      <td>-0.056484</td>\n",
       "      <td>0.817883</td>\n",
       "    </tr>\n",
       "  </tbody>\n",
       "</table>\n",
       "</div>"
      ],
      "text/plain": [
       "          0         1         2         3\n",
       "0 -1.498788  0.957002  1.283227  1.136430\n",
       "1  0.292670  0.194777  0.341233  0.149756\n",
       "2 -1.386921 -0.851447 -0.131391  0.784466\n",
       "3 -1.576786  0.920806  0.526340 -1.269490\n",
       "4  0.603895  0.491596  1.795752  1.840963\n",
       "5  0.164591  0.292783 -0.500270 -1.158657\n",
       "6  1.298826 -1.349986  1.399268  0.309959\n",
       "7  0.317740  0.232471 -0.067786  2.015385\n",
       "8  0.258129 -1.944874 -1.631374 -0.534189\n",
       "9 -2.180747 -0.195942 -0.056484  0.817883"
      ]
     },
     "execution_count": 95,
     "metadata": {},
     "output_type": "execute_result"
    }
   ],
   "source": [
    "pd.concat(pieces)"
   ]
  },
  {
   "cell_type": "code",
   "execution_count": 96,
   "metadata": {
    "collapsed": true
   },
   "outputs": [],
   "source": [
    "left = pd.DataFrame({'key': ['foo', 'foo'], 'lval': [1, 2]})\n",
    "right = pd.DataFrame({'key': ['foo', 'foo'], 'rval': [4, 5]})"
   ]
  },
  {
   "cell_type": "code",
   "execution_count": 97,
   "metadata": {
    "collapsed": false
   },
   "outputs": [
    {
     "data": {
      "text/html": [
       "<div>\n",
       "<table border=\"1\" class=\"dataframe\">\n",
       "  <thead>\n",
       "    <tr style=\"text-align: right;\">\n",
       "      <th></th>\n",
       "      <th>key</th>\n",
       "      <th>lval</th>\n",
       "    </tr>\n",
       "  </thead>\n",
       "  <tbody>\n",
       "    <tr>\n",
       "      <th>0</th>\n",
       "      <td>foo</td>\n",
       "      <td>1</td>\n",
       "    </tr>\n",
       "    <tr>\n",
       "      <th>1</th>\n",
       "      <td>foo</td>\n",
       "      <td>2</td>\n",
       "    </tr>\n",
       "  </tbody>\n",
       "</table>\n",
       "</div>"
      ],
      "text/plain": [
       "   key  lval\n",
       "0  foo     1\n",
       "1  foo     2"
      ]
     },
     "execution_count": 97,
     "metadata": {},
     "output_type": "execute_result"
    }
   ],
   "source": [
    "left"
   ]
  },
  {
   "cell_type": "code",
   "execution_count": 98,
   "metadata": {
    "collapsed": false
   },
   "outputs": [
    {
     "data": {
      "text/html": [
       "<div>\n",
       "<table border=\"1\" class=\"dataframe\">\n",
       "  <thead>\n",
       "    <tr style=\"text-align: right;\">\n",
       "      <th></th>\n",
       "      <th>key</th>\n",
       "      <th>rval</th>\n",
       "    </tr>\n",
       "  </thead>\n",
       "  <tbody>\n",
       "    <tr>\n",
       "      <th>0</th>\n",
       "      <td>foo</td>\n",
       "      <td>4</td>\n",
       "    </tr>\n",
       "    <tr>\n",
       "      <th>1</th>\n",
       "      <td>foo</td>\n",
       "      <td>5</td>\n",
       "    </tr>\n",
       "  </tbody>\n",
       "</table>\n",
       "</div>"
      ],
      "text/plain": [
       "   key  rval\n",
       "0  foo     4\n",
       "1  foo     5"
      ]
     },
     "execution_count": 98,
     "metadata": {},
     "output_type": "execute_result"
    }
   ],
   "source": [
    "right"
   ]
  },
  {
   "cell_type": "markdown",
   "metadata": {},
   "source": [
    "카르테지안 곱을 한다."
   ]
  },
  {
   "cell_type": "code",
   "execution_count": 99,
   "metadata": {
    "collapsed": false
   },
   "outputs": [
    {
     "data": {
      "text/html": [
       "<div>\n",
       "<table border=\"1\" class=\"dataframe\">\n",
       "  <thead>\n",
       "    <tr style=\"text-align: right;\">\n",
       "      <th></th>\n",
       "      <th>key</th>\n",
       "      <th>lval</th>\n",
       "      <th>rval</th>\n",
       "    </tr>\n",
       "  </thead>\n",
       "  <tbody>\n",
       "    <tr>\n",
       "      <th>0</th>\n",
       "      <td>foo</td>\n",
       "      <td>1</td>\n",
       "      <td>4</td>\n",
       "    </tr>\n",
       "    <tr>\n",
       "      <th>1</th>\n",
       "      <td>foo</td>\n",
       "      <td>1</td>\n",
       "      <td>5</td>\n",
       "    </tr>\n",
       "    <tr>\n",
       "      <th>2</th>\n",
       "      <td>foo</td>\n",
       "      <td>2</td>\n",
       "      <td>4</td>\n",
       "    </tr>\n",
       "    <tr>\n",
       "      <th>3</th>\n",
       "      <td>foo</td>\n",
       "      <td>2</td>\n",
       "      <td>5</td>\n",
       "    </tr>\n",
       "  </tbody>\n",
       "</table>\n",
       "</div>"
      ],
      "text/plain": [
       "   key  lval  rval\n",
       "0  foo     1     4\n",
       "1  foo     1     5\n",
       "2  foo     2     4\n",
       "3  foo     2     5"
      ]
     },
     "execution_count": 99,
     "metadata": {},
     "output_type": "execute_result"
    }
   ],
   "source": [
    "pd.merge(left, right, on='key')"
   ]
  },
  {
   "cell_type": "code",
   "execution_count": 100,
   "metadata": {
    "collapsed": true
   },
   "outputs": [],
   "source": [
    "left = pd.DataFrame({'key': ['foo', 'bar'], 'lval': [1, 2]})\n",
    "right = pd.DataFrame({'key': ['foo', 'bar'], 'rval': [4, 5]})"
   ]
  },
  {
   "cell_type": "markdown",
   "metadata": {},
   "source": [
    "키가 unique하다면 equjoin이 수행된다."
   ]
  },
  {
   "cell_type": "code",
   "execution_count": 101,
   "metadata": {
    "collapsed": false
   },
   "outputs": [
    {
     "data": {
      "text/html": [
       "<div>\n",
       "<table border=\"1\" class=\"dataframe\">\n",
       "  <thead>\n",
       "    <tr style=\"text-align: right;\">\n",
       "      <th></th>\n",
       "      <th>key</th>\n",
       "      <th>lval</th>\n",
       "      <th>rval</th>\n",
       "    </tr>\n",
       "  </thead>\n",
       "  <tbody>\n",
       "    <tr>\n",
       "      <th>0</th>\n",
       "      <td>foo</td>\n",
       "      <td>1</td>\n",
       "      <td>4</td>\n",
       "    </tr>\n",
       "    <tr>\n",
       "      <th>1</th>\n",
       "      <td>bar</td>\n",
       "      <td>2</td>\n",
       "      <td>5</td>\n",
       "    </tr>\n",
       "  </tbody>\n",
       "</table>\n",
       "</div>"
      ],
      "text/plain": [
       "   key  lval  rval\n",
       "0  foo     1     4\n",
       "1  bar     2     5"
      ]
     },
     "execution_count": 101,
     "metadata": {},
     "output_type": "execute_result"
    }
   ],
   "source": [
    "pd.merge(left, right, on='key')"
   ]
  },
  {
   "cell_type": "code",
   "execution_count": 102,
   "metadata": {
    "collapsed": true
   },
   "outputs": [],
   "source": [
    "df = pd.DataFrame(np.random.randn(8, 4), columns=['A','B','C','D'])\n",
    "s = df.iloc[3]"
   ]
  },
  {
   "cell_type": "markdown",
   "metadata": {},
   "source": [
    "행을 추가하는 일반적인 방법은 append이다. 본래 있던 index를 무시하려면 ignore_index=True"
   ]
  },
  {
   "cell_type": "code",
   "execution_count": 103,
   "metadata": {
    "collapsed": false
   },
   "outputs": [
    {
     "data": {
      "text/html": [
       "<div>\n",
       "<table border=\"1\" class=\"dataframe\">\n",
       "  <thead>\n",
       "    <tr style=\"text-align: right;\">\n",
       "      <th></th>\n",
       "      <th>A</th>\n",
       "      <th>B</th>\n",
       "      <th>C</th>\n",
       "      <th>D</th>\n",
       "    </tr>\n",
       "  </thead>\n",
       "  <tbody>\n",
       "    <tr>\n",
       "      <th>0</th>\n",
       "      <td>-0.418895</td>\n",
       "      <td>0.517758</td>\n",
       "      <td>-0.522209</td>\n",
       "      <td>-0.100009</td>\n",
       "    </tr>\n",
       "    <tr>\n",
       "      <th>1</th>\n",
       "      <td>-1.090592</td>\n",
       "      <td>1.337415</td>\n",
       "      <td>-0.877768</td>\n",
       "      <td>-1.678397</td>\n",
       "    </tr>\n",
       "    <tr>\n",
       "      <th>2</th>\n",
       "      <td>-0.455753</td>\n",
       "      <td>0.265137</td>\n",
       "      <td>-0.808381</td>\n",
       "      <td>-0.682789</td>\n",
       "    </tr>\n",
       "    <tr>\n",
       "      <th>3</th>\n",
       "      <td>-1.179441</td>\n",
       "      <td>0.582595</td>\n",
       "      <td>0.876961</td>\n",
       "      <td>1.458681</td>\n",
       "    </tr>\n",
       "    <tr>\n",
       "      <th>4</th>\n",
       "      <td>-0.058517</td>\n",
       "      <td>0.661233</td>\n",
       "      <td>-0.290085</td>\n",
       "      <td>-0.813822</td>\n",
       "    </tr>\n",
       "    <tr>\n",
       "      <th>5</th>\n",
       "      <td>1.764446</td>\n",
       "      <td>-0.954428</td>\n",
       "      <td>-0.110916</td>\n",
       "      <td>0.983619</td>\n",
       "    </tr>\n",
       "    <tr>\n",
       "      <th>6</th>\n",
       "      <td>-0.797865</td>\n",
       "      <td>0.597030</td>\n",
       "      <td>-0.712802</td>\n",
       "      <td>0.376787</td>\n",
       "    </tr>\n",
       "    <tr>\n",
       "      <th>7</th>\n",
       "      <td>0.188783</td>\n",
       "      <td>0.185809</td>\n",
       "      <td>-0.438454</td>\n",
       "      <td>0.757575</td>\n",
       "    </tr>\n",
       "    <tr>\n",
       "      <th>8</th>\n",
       "      <td>-1.179441</td>\n",
       "      <td>0.582595</td>\n",
       "      <td>0.876961</td>\n",
       "      <td>1.458681</td>\n",
       "    </tr>\n",
       "  </tbody>\n",
       "</table>\n",
       "</div>"
      ],
      "text/plain": [
       "          A         B         C         D\n",
       "0 -0.418895  0.517758 -0.522209 -0.100009\n",
       "1 -1.090592  1.337415 -0.877768 -1.678397\n",
       "2 -0.455753  0.265137 -0.808381 -0.682789\n",
       "3 -1.179441  0.582595  0.876961  1.458681\n",
       "4 -0.058517  0.661233 -0.290085 -0.813822\n",
       "5  1.764446 -0.954428 -0.110916  0.983619\n",
       "6 -0.797865  0.597030 -0.712802  0.376787\n",
       "7  0.188783  0.185809 -0.438454  0.757575\n",
       "8 -1.179441  0.582595  0.876961  1.458681"
      ]
     },
     "execution_count": 103,
     "metadata": {},
     "output_type": "execute_result"
    }
   ],
   "source": [
    "df.append(s, ignore_index=True)"
   ]
  },
  {
   "cell_type": "code",
   "execution_count": 104,
   "metadata": {
    "collapsed": true
   },
   "outputs": [],
   "source": [
    "df = pd.DataFrame({'A' : ['foo', 'bar', 'foo', 'bar',\n",
    "   ....:                           'foo', 'bar', 'foo', 'foo'],\n",
    "   ....:                    'B' : ['one', 'one', 'two', 'three',\n",
    "   ....:                           'two', 'two', 'one', 'three'],\n",
    "   ....:                    'C' : np.random.randn(8),\n",
    "   ....:                    'D' : np.random.randn(8)})"
   ]
  },
  {
   "cell_type": "code",
   "execution_count": 105,
   "metadata": {
    "collapsed": false
   },
   "outputs": [
    {
     "data": {
      "text/html": [
       "<div>\n",
       "<table border=\"1\" class=\"dataframe\">\n",
       "  <thead>\n",
       "    <tr style=\"text-align: right;\">\n",
       "      <th></th>\n",
       "      <th>A</th>\n",
       "      <th>B</th>\n",
       "      <th>C</th>\n",
       "      <th>D</th>\n",
       "    </tr>\n",
       "  </thead>\n",
       "  <tbody>\n",
       "    <tr>\n",
       "      <th>0</th>\n",
       "      <td>foo</td>\n",
       "      <td>one</td>\n",
       "      <td>0.951606</td>\n",
       "      <td>0.381276</td>\n",
       "    </tr>\n",
       "    <tr>\n",
       "      <th>1</th>\n",
       "      <td>bar</td>\n",
       "      <td>one</td>\n",
       "      <td>0.181717</td>\n",
       "      <td>0.179988</td>\n",
       "    </tr>\n",
       "    <tr>\n",
       "      <th>2</th>\n",
       "      <td>foo</td>\n",
       "      <td>two</td>\n",
       "      <td>0.949889</td>\n",
       "      <td>1.720557</td>\n",
       "    </tr>\n",
       "    <tr>\n",
       "      <th>3</th>\n",
       "      <td>bar</td>\n",
       "      <td>three</td>\n",
       "      <td>-0.871411</td>\n",
       "      <td>0.438999</td>\n",
       "    </tr>\n",
       "    <tr>\n",
       "      <th>4</th>\n",
       "      <td>foo</td>\n",
       "      <td>two</td>\n",
       "      <td>0.832672</td>\n",
       "      <td>-1.755371</td>\n",
       "    </tr>\n",
       "    <tr>\n",
       "      <th>5</th>\n",
       "      <td>bar</td>\n",
       "      <td>two</td>\n",
       "      <td>-2.186126</td>\n",
       "      <td>1.268409</td>\n",
       "    </tr>\n",
       "    <tr>\n",
       "      <th>6</th>\n",
       "      <td>foo</td>\n",
       "      <td>one</td>\n",
       "      <td>0.967355</td>\n",
       "      <td>1.231424</td>\n",
       "    </tr>\n",
       "    <tr>\n",
       "      <th>7</th>\n",
       "      <td>foo</td>\n",
       "      <td>three</td>\n",
       "      <td>-0.460544</td>\n",
       "      <td>-0.541919</td>\n",
       "    </tr>\n",
       "  </tbody>\n",
       "</table>\n",
       "</div>"
      ],
      "text/plain": [
       "     A      B         C         D\n",
       "0  foo    one  0.951606  0.381276\n",
       "1  bar    one  0.181717  0.179988\n",
       "2  foo    two  0.949889  1.720557\n",
       "3  bar  three -0.871411  0.438999\n",
       "4  foo    two  0.832672 -1.755371\n",
       "5  bar    two -2.186126  1.268409\n",
       "6  foo    one  0.967355  1.231424\n",
       "7  foo  three -0.460544 -0.541919"
      ]
     },
     "execution_count": 105,
     "metadata": {},
     "output_type": "execute_result"
    }
   ],
   "source": [
    "df"
   ]
  },
  {
   "cell_type": "markdown",
   "metadata": {},
   "source": [
    "그룹으로 지정할 열을 정한 다음 sum함수를 적용하여 C와 D의 총합을 구한다."
   ]
  },
  {
   "cell_type": "code",
   "execution_count": 106,
   "metadata": {
    "collapsed": false
   },
   "outputs": [
    {
     "data": {
      "text/html": [
       "<div>\n",
       "<table border=\"1\" class=\"dataframe\">\n",
       "  <thead>\n",
       "    <tr style=\"text-align: right;\">\n",
       "      <th></th>\n",
       "      <th>C</th>\n",
       "      <th>D</th>\n",
       "    </tr>\n",
       "    <tr>\n",
       "      <th>A</th>\n",
       "      <th></th>\n",
       "      <th></th>\n",
       "    </tr>\n",
       "  </thead>\n",
       "  <tbody>\n",
       "    <tr>\n",
       "      <th>bar</th>\n",
       "      <td>-2.875819</td>\n",
       "      <td>1.887395</td>\n",
       "    </tr>\n",
       "    <tr>\n",
       "      <th>foo</th>\n",
       "      <td>3.240978</td>\n",
       "      <td>1.035967</td>\n",
       "    </tr>\n",
       "  </tbody>\n",
       "</table>\n",
       "</div>"
      ],
      "text/plain": [
       "            C         D\n",
       "A                      \n",
       "bar -2.875819  1.887395\n",
       "foo  3.240978  1.035967"
      ]
     },
     "execution_count": 106,
     "metadata": {},
     "output_type": "execute_result"
    }
   ],
   "source": [
    "df.groupby('A').sum()"
   ]
  },
  {
   "cell_type": "markdown",
   "metadata": {},
   "source": [
    "cross table형태로 표현할 수도 있다."
   ]
  },
  {
   "cell_type": "code",
   "execution_count": 107,
   "metadata": {
    "collapsed": false
   },
   "outputs": [
    {
     "data": {
      "text/html": [
       "<div>\n",
       "<table border=\"1\" class=\"dataframe\">\n",
       "  <thead>\n",
       "    <tr style=\"text-align: right;\">\n",
       "      <th></th>\n",
       "      <th></th>\n",
       "      <th>C</th>\n",
       "      <th>D</th>\n",
       "    </tr>\n",
       "    <tr>\n",
       "      <th>A</th>\n",
       "      <th>B</th>\n",
       "      <th></th>\n",
       "      <th></th>\n",
       "    </tr>\n",
       "  </thead>\n",
       "  <tbody>\n",
       "    <tr>\n",
       "      <th rowspan=\"3\" valign=\"top\">bar</th>\n",
       "      <th>one</th>\n",
       "      <td>0.181717</td>\n",
       "      <td>0.179988</td>\n",
       "    </tr>\n",
       "    <tr>\n",
       "      <th>three</th>\n",
       "      <td>-0.871411</td>\n",
       "      <td>0.438999</td>\n",
       "    </tr>\n",
       "    <tr>\n",
       "      <th>two</th>\n",
       "      <td>-2.186126</td>\n",
       "      <td>1.268409</td>\n",
       "    </tr>\n",
       "    <tr>\n",
       "      <th rowspan=\"3\" valign=\"top\">foo</th>\n",
       "      <th>one</th>\n",
       "      <td>1.918961</td>\n",
       "      <td>1.612700</td>\n",
       "    </tr>\n",
       "    <tr>\n",
       "      <th>three</th>\n",
       "      <td>-0.460544</td>\n",
       "      <td>-0.541919</td>\n",
       "    </tr>\n",
       "    <tr>\n",
       "      <th>two</th>\n",
       "      <td>1.782561</td>\n",
       "      <td>-0.034814</td>\n",
       "    </tr>\n",
       "  </tbody>\n",
       "</table>\n",
       "</div>"
      ],
      "text/plain": [
       "                  C         D\n",
       "A   B                        \n",
       "bar one    0.181717  0.179988\n",
       "    three -0.871411  0.438999\n",
       "    two   -2.186126  1.268409\n",
       "foo one    1.918961  1.612700\n",
       "    three -0.460544 -0.541919\n",
       "    two    1.782561 -0.034814"
      ]
     },
     "execution_count": 107,
     "metadata": {},
     "output_type": "execute_result"
    }
   ],
   "source": [
    "df.groupby(['A','B']).sum()"
   ]
  },
  {
   "cell_type": "code",
   "execution_count": 108,
   "metadata": {
    "collapsed": true
   },
   "outputs": [],
   "source": [
    "tuples = list(zip(*[['bar', 'bar', 'baz', 'baz',\n",
    "   ....:                      'foo', 'foo', 'qux', 'qux'],\n",
    "   ....:                     ['one', 'two', 'one', 'two',\n",
    "   ....:                      'one', 'two', 'one', 'two']]))"
   ]
  },
  {
   "cell_type": "code",
   "execution_count": 109,
   "metadata": {
    "collapsed": false
   },
   "outputs": [
    {
     "data": {
      "text/plain": [
       "[('bar', 'one'),\n",
       " ('bar', 'two'),\n",
       " ('baz', 'one'),\n",
       " ('baz', 'two'),\n",
       " ('foo', 'one'),\n",
       " ('foo', 'two'),\n",
       " ('qux', 'one'),\n",
       " ('qux', 'two')]"
      ]
     },
     "execution_count": 109,
     "metadata": {},
     "output_type": "execute_result"
    }
   ],
   "source": [
    "tuples"
   ]
  },
  {
   "cell_type": "markdown",
   "metadata": {},
   "source": [
    "멀티 인덱스를 만들어서 보다 복잡한 형태의 데이터 프레임도 만들 수 있다."
   ]
  },
  {
   "cell_type": "code",
   "execution_count": 110,
   "metadata": {
    "collapsed": true
   },
   "outputs": [],
   "source": [
    "index = pd.MultiIndex.from_tuples(tuples, names=['first', 'second'])"
   ]
  },
  {
   "cell_type": "code",
   "execution_count": 111,
   "metadata": {
    "collapsed": false
   },
   "outputs": [
    {
     "data": {
      "text/plain": [
       "MultiIndex(levels=[['bar', 'baz', 'foo', 'qux'], ['one', 'two']],\n",
       "           labels=[[0, 0, 1, 1, 2, 2, 3, 3], [0, 1, 0, 1, 0, 1, 0, 1]],\n",
       "           names=['first', 'second'])"
      ]
     },
     "execution_count": 111,
     "metadata": {},
     "output_type": "execute_result"
    }
   ],
   "source": [
    "index"
   ]
  },
  {
   "cell_type": "code",
   "execution_count": 112,
   "metadata": {
    "collapsed": true
   },
   "outputs": [],
   "source": [
    "df = pd.DataFrame(np.random.randn(8, 2), index=index, columns=['A', 'B'])"
   ]
  },
  {
   "cell_type": "code",
   "execution_count": 113,
   "metadata": {
    "collapsed": false
   },
   "outputs": [
    {
     "data": {
      "text/html": [
       "<div>\n",
       "<table border=\"1\" class=\"dataframe\">\n",
       "  <thead>\n",
       "    <tr style=\"text-align: right;\">\n",
       "      <th></th>\n",
       "      <th></th>\n",
       "      <th>A</th>\n",
       "      <th>B</th>\n",
       "    </tr>\n",
       "    <tr>\n",
       "      <th>first</th>\n",
       "      <th>second</th>\n",
       "      <th></th>\n",
       "      <th></th>\n",
       "    </tr>\n",
       "  </thead>\n",
       "  <tbody>\n",
       "    <tr>\n",
       "      <th rowspan=\"2\" valign=\"top\">bar</th>\n",
       "      <th>one</th>\n",
       "      <td>-1.528516</td>\n",
       "      <td>0.503415</td>\n",
       "    </tr>\n",
       "    <tr>\n",
       "      <th>two</th>\n",
       "      <td>0.773723</td>\n",
       "      <td>-0.296504</td>\n",
       "    </tr>\n",
       "    <tr>\n",
       "      <th rowspan=\"2\" valign=\"top\">baz</th>\n",
       "      <th>one</th>\n",
       "      <td>-0.515245</td>\n",
       "      <td>0.402978</td>\n",
       "    </tr>\n",
       "    <tr>\n",
       "      <th>two</th>\n",
       "      <td>-0.082855</td>\n",
       "      <td>-0.231892</td>\n",
       "    </tr>\n",
       "    <tr>\n",
       "      <th rowspan=\"2\" valign=\"top\">foo</th>\n",
       "      <th>one</th>\n",
       "      <td>1.673667</td>\n",
       "      <td>-0.346077</td>\n",
       "    </tr>\n",
       "    <tr>\n",
       "      <th>two</th>\n",
       "      <td>-0.022761</td>\n",
       "      <td>0.569847</td>\n",
       "    </tr>\n",
       "    <tr>\n",
       "      <th rowspan=\"2\" valign=\"top\">qux</th>\n",
       "      <th>one</th>\n",
       "      <td>0.580567</td>\n",
       "      <td>1.527054</td>\n",
       "    </tr>\n",
       "    <tr>\n",
       "      <th>two</th>\n",
       "      <td>-0.656420</td>\n",
       "      <td>-0.066305</td>\n",
       "    </tr>\n",
       "  </tbody>\n",
       "</table>\n",
       "</div>"
      ],
      "text/plain": [
       "                     A         B\n",
       "first second                    \n",
       "bar   one    -1.528516  0.503415\n",
       "      two     0.773723 -0.296504\n",
       "baz   one    -0.515245  0.402978\n",
       "      two    -0.082855 -0.231892\n",
       "foo   one     1.673667 -0.346077\n",
       "      two    -0.022761  0.569847\n",
       "qux   one     0.580567  1.527054\n",
       "      two    -0.656420 -0.066305"
      ]
     },
     "execution_count": 113,
     "metadata": {},
     "output_type": "execute_result"
    }
   ],
   "source": [
    "df"
   ]
  },
  {
   "cell_type": "code",
   "execution_count": 114,
   "metadata": {
    "collapsed": true
   },
   "outputs": [],
   "source": [
    "df2 = df[:4]"
   ]
  },
  {
   "cell_type": "code",
   "execution_count": 115,
   "metadata": {
    "collapsed": false
   },
   "outputs": [
    {
     "data": {
      "text/html": [
       "<div>\n",
       "<table border=\"1\" class=\"dataframe\">\n",
       "  <thead>\n",
       "    <tr style=\"text-align: right;\">\n",
       "      <th></th>\n",
       "      <th></th>\n",
       "      <th>A</th>\n",
       "      <th>B</th>\n",
       "    </tr>\n",
       "    <tr>\n",
       "      <th>first</th>\n",
       "      <th>second</th>\n",
       "      <th></th>\n",
       "      <th></th>\n",
       "    </tr>\n",
       "  </thead>\n",
       "  <tbody>\n",
       "    <tr>\n",
       "      <th rowspan=\"2\" valign=\"top\">bar</th>\n",
       "      <th>one</th>\n",
       "      <td>-1.528516</td>\n",
       "      <td>0.503415</td>\n",
       "    </tr>\n",
       "    <tr>\n",
       "      <th>two</th>\n",
       "      <td>0.773723</td>\n",
       "      <td>-0.296504</td>\n",
       "    </tr>\n",
       "    <tr>\n",
       "      <th rowspan=\"2\" valign=\"top\">baz</th>\n",
       "      <th>one</th>\n",
       "      <td>-0.515245</td>\n",
       "      <td>0.402978</td>\n",
       "    </tr>\n",
       "    <tr>\n",
       "      <th>two</th>\n",
       "      <td>-0.082855</td>\n",
       "      <td>-0.231892</td>\n",
       "    </tr>\n",
       "  </tbody>\n",
       "</table>\n",
       "</div>"
      ],
      "text/plain": [
       "                     A         B\n",
       "first second                    \n",
       "bar   one    -1.528516  0.503415\n",
       "      two     0.773723 -0.296504\n",
       "baz   one    -0.515245  0.402978\n",
       "      two    -0.082855 -0.231892"
      ]
     },
     "execution_count": 115,
     "metadata": {},
     "output_type": "execute_result"
    }
   ],
   "source": [
    "df2"
   ]
  },
  {
   "cell_type": "markdown",
   "metadata": {},
   "source": [
    "값을 하나의 스택으로 쌓아줄 수도 있다."
   ]
  },
  {
   "cell_type": "code",
   "execution_count": 116,
   "metadata": {
    "collapsed": true
   },
   "outputs": [],
   "source": [
    "stacked = df2.stack()"
   ]
  },
  {
   "cell_type": "code",
   "execution_count": 117,
   "metadata": {
    "collapsed": false
   },
   "outputs": [
    {
     "data": {
      "text/plain": [
       "first  second   \n",
       "bar    one     A   -1.528516\n",
       "               B    0.503415\n",
       "       two     A    0.773723\n",
       "               B   -0.296504\n",
       "baz    one     A   -0.515245\n",
       "               B    0.402978\n",
       "       two     A   -0.082855\n",
       "               B   -0.231892\n",
       "dtype: float64"
      ]
     },
     "execution_count": 117,
     "metadata": {},
     "output_type": "execute_result"
    }
   ],
   "source": [
    "stacked"
   ]
  },
  {
   "cell_type": "code",
   "execution_count": 118,
   "metadata": {
    "collapsed": false
   },
   "outputs": [
    {
     "data": {
      "text/plain": [
       "array([-1.52851608,  0.50341527,  0.77372289, -0.29650365, -0.51524475,\n",
       "        0.40297781, -0.08285541, -0.23189222])"
      ]
     },
     "execution_count": 118,
     "metadata": {},
     "output_type": "execute_result"
    }
   ],
   "source": [
    "stacked.values"
   ]
  },
  {
   "cell_type": "code",
   "execution_count": 119,
   "metadata": {
    "collapsed": false
   },
   "outputs": [
    {
     "data": {
      "text/html": [
       "<div>\n",
       "<table border=\"1\" class=\"dataframe\">\n",
       "  <thead>\n",
       "    <tr style=\"text-align: right;\">\n",
       "      <th></th>\n",
       "      <th></th>\n",
       "      <th>A</th>\n",
       "      <th>B</th>\n",
       "    </tr>\n",
       "    <tr>\n",
       "      <th>first</th>\n",
       "      <th>second</th>\n",
       "      <th></th>\n",
       "      <th></th>\n",
       "    </tr>\n",
       "  </thead>\n",
       "  <tbody>\n",
       "    <tr>\n",
       "      <th rowspan=\"2\" valign=\"top\">bar</th>\n",
       "      <th>one</th>\n",
       "      <td>-1.528516</td>\n",
       "      <td>0.503415</td>\n",
       "    </tr>\n",
       "    <tr>\n",
       "      <th>two</th>\n",
       "      <td>0.773723</td>\n",
       "      <td>-0.296504</td>\n",
       "    </tr>\n",
       "    <tr>\n",
       "      <th rowspan=\"2\" valign=\"top\">baz</th>\n",
       "      <th>one</th>\n",
       "      <td>-0.515245</td>\n",
       "      <td>0.402978</td>\n",
       "    </tr>\n",
       "    <tr>\n",
       "      <th>two</th>\n",
       "      <td>-0.082855</td>\n",
       "      <td>-0.231892</td>\n",
       "    </tr>\n",
       "  </tbody>\n",
       "</table>\n",
       "</div>"
      ],
      "text/plain": [
       "                     A         B\n",
       "first second                    \n",
       "bar   one    -1.528516  0.503415\n",
       "      two     0.773723 -0.296504\n",
       "baz   one    -0.515245  0.402978\n",
       "      two    -0.082855 -0.231892"
      ]
     },
     "execution_count": 119,
     "metadata": {},
     "output_type": "execute_result"
    }
   ],
   "source": [
    "stacked.unstack()"
   ]
  },
  {
   "cell_type": "code",
   "execution_count": 120,
   "metadata": {
    "collapsed": true
   },
   "outputs": [],
   "source": [
    "df = pd.DataFrame({'A' : ['one', 'one', 'two', 'three'] * 3,\n",
    "   .....:                    'B' : ['A', 'B', 'C'] * 4,\n",
    "   .....:                    'C' : ['foo', 'foo', 'foo', 'bar', 'bar', 'bar'] * 2,\n",
    "   .....:                    'D' : np.random.randn(12),\n",
    "   .....:                    'E' : np.random.randn(12)})"
   ]
  },
  {
   "cell_type": "markdown",
   "metadata": {},
   "source": [
    "3차원으로 되어 있는 테이블의 경우 pivot을 하여 2차원 데이터로 쉽게 바꿀 수 있다."
   ]
  },
  {
   "cell_type": "code",
   "execution_count": 121,
   "metadata": {
    "collapsed": false
   },
   "outputs": [
    {
     "data": {
      "text/html": [
       "<div>\n",
       "<table border=\"1\" class=\"dataframe\">\n",
       "  <thead>\n",
       "    <tr style=\"text-align: right;\">\n",
       "      <th></th>\n",
       "      <th>A</th>\n",
       "      <th>B</th>\n",
       "      <th>C</th>\n",
       "      <th>D</th>\n",
       "      <th>E</th>\n",
       "    </tr>\n",
       "  </thead>\n",
       "  <tbody>\n",
       "    <tr>\n",
       "      <th>0</th>\n",
       "      <td>one</td>\n",
       "      <td>A</td>\n",
       "      <td>foo</td>\n",
       "      <td>-0.986523</td>\n",
       "      <td>-0.016704</td>\n",
       "    </tr>\n",
       "    <tr>\n",
       "      <th>1</th>\n",
       "      <td>one</td>\n",
       "      <td>B</td>\n",
       "      <td>foo</td>\n",
       "      <td>-0.884772</td>\n",
       "      <td>-0.269092</td>\n",
       "    </tr>\n",
       "    <tr>\n",
       "      <th>2</th>\n",
       "      <td>two</td>\n",
       "      <td>C</td>\n",
       "      <td>foo</td>\n",
       "      <td>-0.773199</td>\n",
       "      <td>-0.546442</td>\n",
       "    </tr>\n",
       "    <tr>\n",
       "      <th>3</th>\n",
       "      <td>three</td>\n",
       "      <td>A</td>\n",
       "      <td>bar</td>\n",
       "      <td>-0.361110</td>\n",
       "      <td>-0.728352</td>\n",
       "    </tr>\n",
       "    <tr>\n",
       "      <th>4</th>\n",
       "      <td>one</td>\n",
       "      <td>B</td>\n",
       "      <td>bar</td>\n",
       "      <td>-1.567667</td>\n",
       "      <td>-0.270497</td>\n",
       "    </tr>\n",
       "    <tr>\n",
       "      <th>5</th>\n",
       "      <td>one</td>\n",
       "      <td>C</td>\n",
       "      <td>bar</td>\n",
       "      <td>0.576534</td>\n",
       "      <td>1.194646</td>\n",
       "    </tr>\n",
       "    <tr>\n",
       "      <th>6</th>\n",
       "      <td>two</td>\n",
       "      <td>A</td>\n",
       "      <td>foo</td>\n",
       "      <td>-0.732933</td>\n",
       "      <td>-1.170053</td>\n",
       "    </tr>\n",
       "    <tr>\n",
       "      <th>7</th>\n",
       "      <td>three</td>\n",
       "      <td>B</td>\n",
       "      <td>foo</td>\n",
       "      <td>0.730540</td>\n",
       "      <td>-0.693513</td>\n",
       "    </tr>\n",
       "    <tr>\n",
       "      <th>8</th>\n",
       "      <td>one</td>\n",
       "      <td>C</td>\n",
       "      <td>foo</td>\n",
       "      <td>0.457477</td>\n",
       "      <td>-0.558482</td>\n",
       "    </tr>\n",
       "    <tr>\n",
       "      <th>9</th>\n",
       "      <td>one</td>\n",
       "      <td>A</td>\n",
       "      <td>bar</td>\n",
       "      <td>0.840277</td>\n",
       "      <td>-0.599600</td>\n",
       "    </tr>\n",
       "    <tr>\n",
       "      <th>10</th>\n",
       "      <td>two</td>\n",
       "      <td>B</td>\n",
       "      <td>bar</td>\n",
       "      <td>1.083956</td>\n",
       "      <td>-0.023718</td>\n",
       "    </tr>\n",
       "    <tr>\n",
       "      <th>11</th>\n",
       "      <td>three</td>\n",
       "      <td>C</td>\n",
       "      <td>bar</td>\n",
       "      <td>1.193479</td>\n",
       "      <td>0.769038</td>\n",
       "    </tr>\n",
       "  </tbody>\n",
       "</table>\n",
       "</div>"
      ],
      "text/plain": [
       "        A  B    C         D         E\n",
       "0     one  A  foo -0.986523 -0.016704\n",
       "1     one  B  foo -0.884772 -0.269092\n",
       "2     two  C  foo -0.773199 -0.546442\n",
       "3   three  A  bar -0.361110 -0.728352\n",
       "4     one  B  bar -1.567667 -0.270497\n",
       "5     one  C  bar  0.576534  1.194646\n",
       "6     two  A  foo -0.732933 -1.170053\n",
       "7   three  B  foo  0.730540 -0.693513\n",
       "8     one  C  foo  0.457477 -0.558482\n",
       "9     one  A  bar  0.840277 -0.599600\n",
       "10    two  B  bar  1.083956 -0.023718\n",
       "11  three  C  bar  1.193479  0.769038"
      ]
     },
     "execution_count": 121,
     "metadata": {},
     "output_type": "execute_result"
    }
   ],
   "source": [
    "df"
   ]
  },
  {
   "cell_type": "markdown",
   "metadata": {},
   "source": [
    "값은 values, 행은 index, 열은 columns 파라미터로 조정하는 pivot_table()"
   ]
  },
  {
   "cell_type": "code",
   "execution_count": 122,
   "metadata": {
    "collapsed": false
   },
   "outputs": [
    {
     "data": {
      "text/html": [
       "<div>\n",
       "<table border=\"1\" class=\"dataframe\">\n",
       "  <thead>\n",
       "    <tr style=\"text-align: right;\">\n",
       "      <th></th>\n",
       "      <th>C</th>\n",
       "      <th>bar</th>\n",
       "      <th>foo</th>\n",
       "    </tr>\n",
       "    <tr>\n",
       "      <th>A</th>\n",
       "      <th>B</th>\n",
       "      <th></th>\n",
       "      <th></th>\n",
       "    </tr>\n",
       "  </thead>\n",
       "  <tbody>\n",
       "    <tr>\n",
       "      <th rowspan=\"3\" valign=\"top\">one</th>\n",
       "      <th>A</th>\n",
       "      <td>0.840277</td>\n",
       "      <td>-0.986523</td>\n",
       "    </tr>\n",
       "    <tr>\n",
       "      <th>B</th>\n",
       "      <td>-1.567667</td>\n",
       "      <td>-0.884772</td>\n",
       "    </tr>\n",
       "    <tr>\n",
       "      <th>C</th>\n",
       "      <td>0.576534</td>\n",
       "      <td>0.457477</td>\n",
       "    </tr>\n",
       "    <tr>\n",
       "      <th rowspan=\"3\" valign=\"top\">three</th>\n",
       "      <th>A</th>\n",
       "      <td>-0.361110</td>\n",
       "      <td>NaN</td>\n",
       "    </tr>\n",
       "    <tr>\n",
       "      <th>B</th>\n",
       "      <td>NaN</td>\n",
       "      <td>0.730540</td>\n",
       "    </tr>\n",
       "    <tr>\n",
       "      <th>C</th>\n",
       "      <td>1.193479</td>\n",
       "      <td>NaN</td>\n",
       "    </tr>\n",
       "    <tr>\n",
       "      <th rowspan=\"3\" valign=\"top\">two</th>\n",
       "      <th>A</th>\n",
       "      <td>NaN</td>\n",
       "      <td>-0.732933</td>\n",
       "    </tr>\n",
       "    <tr>\n",
       "      <th>B</th>\n",
       "      <td>1.083956</td>\n",
       "      <td>NaN</td>\n",
       "    </tr>\n",
       "    <tr>\n",
       "      <th>C</th>\n",
       "      <td>NaN</td>\n",
       "      <td>-0.773199</td>\n",
       "    </tr>\n",
       "  </tbody>\n",
       "</table>\n",
       "</div>"
      ],
      "text/plain": [
       "C             bar       foo\n",
       "A     B                    \n",
       "one   A  0.840277 -0.986523\n",
       "      B -1.567667 -0.884772\n",
       "      C  0.576534  0.457477\n",
       "three A -0.361110       NaN\n",
       "      B       NaN  0.730540\n",
       "      C  1.193479       NaN\n",
       "two   A       NaN -0.732933\n",
       "      B  1.083956       NaN\n",
       "      C       NaN -0.773199"
      ]
     },
     "execution_count": 122,
     "metadata": {},
     "output_type": "execute_result"
    }
   ],
   "source": [
    " pd.pivot_table(df, values='D', index=['A', 'B'], columns=['C'])"
   ]
  },
  {
   "cell_type": "code",
   "execution_count": 123,
   "metadata": {
    "collapsed": false
   },
   "outputs": [
    {
     "data": {
      "text/plain": [
       "2012-01-01    23363\n",
       "Freq: 5T, dtype: int32"
      ]
     },
     "execution_count": 123,
     "metadata": {},
     "output_type": "execute_result"
    }
   ],
   "source": [
    "rng = pd.date_range('1/1/2012', periods=100, freq='S')\n",
    "ts = pd.Series(np.random.randint(0, 500, len(rng)), index=rng)\n",
    "ts.resample('5Min').sum()"
   ]
  },
  {
   "cell_type": "code",
   "execution_count": 127,
   "metadata": {
    "collapsed": false
   },
   "outputs": [
    {
     "data": {
      "text/plain": [
       "<matplotlib.axes._subplots.AxesSubplot at 0x2bc0b256d68>"
      ]
     },
     "execution_count": 127,
     "metadata": {},
     "output_type": "execute_result"
    }
   ],
   "source": [
    "import matplotlib.pyplot as plt\n",
    "ts = pd.Series(np.random.randn(1000), index=pd.date_range('1/1/2000', periods=1000))\n",
    "ts = ts.cumsum()\n",
    "ts.plot()"
   ]
  },
  {
   "cell_type": "code",
   "execution_count": 128,
   "metadata": {
    "collapsed": false
   },
   "outputs": [
    {
     "data": {
      "image/png": "[encoded data removed]",
      "text/plain": [
       "<matplotlib.figure.Figure at 0x2bc0b2470b8>"
      ]
     },
     "metadata": {},
     "output_type": "display_data"
    }
   ],
   "source": [
    "plt.show()"
   ]
  },
  {
   "cell_type": "code",
   "execution_count": 129,
   "metadata": {
    "collapsed": false
   },
   "outputs": [
    {
     "data": {
      "text/plain": [
       "<matplotlib.figure.Figure at 0x2bc0b37d4e0>"
      ]
     },
     "metadata": {},
     "output_type": "display_data"
    },
    {
     "data": {
      "image/png": "[encoded data removed]",
      "text/plain": [
       "<matplotlib.figure.Figure at 0x2bc0b371cf8>"
      ]
     },
     "metadata": {},
     "output_type": "display_data"
    }
   ],
   "source": [
    "df = pd.DataFrame(np.random.randn(1000, 4), index=ts.index,\n",
    "   .....:                   columns=['A', 'B', 'C', 'D'])\n",
    "df = df.cumsum()\n",
    "plt.figure(); df.plot(); plt.legend(loc='best')\n",
    "plt.show()"
   ]
  },
  {
   "cell_type": "code",
   "execution_count": 130,
   "metadata": {
    "collapsed": false
   },
   "outputs": [
    {
     "data": {
      "text/html": [
       "<div>\n",
       "<table border=\"1\" class=\"dataframe\">\n",
       "  <thead>\n",
       "    <tr style=\"text-align: right;\">\n",
       "      <th></th>\n",
       "      <th>Unnamed: 0</th>\n",
       "      <th>A</th>\n",
       "      <th>B</th>\n",
       "      <th>C</th>\n",
       "      <th>D</th>\n",
       "    </tr>\n",
       "  </thead>\n",
       "  <tbody>\n",
       "    <tr>\n",
       "      <th>0</th>\n",
       "      <td>2000-01-01</td>\n",
       "      <td>0.644341</td>\n",
       "      <td>-0.533011</td>\n",
       "      <td>-0.117112</td>\n",
       "      <td>-0.512574</td>\n",
       "    </tr>\n",
       "    <tr>\n",
       "      <th>1</th>\n",
       "      <td>2000-01-02</td>\n",
       "      <td>-0.359655</td>\n",
       "      <td>-0.145902</td>\n",
       "      <td>-1.500922</td>\n",
       "      <td>-1.249606</td>\n",
       "    </tr>\n",
       "    <tr>\n",
       "      <th>2</th>\n",
       "      <td>2000-01-03</td>\n",
       "      <td>-1.755126</td>\n",
       "      <td>1.520461</td>\n",
       "      <td>-1.803988</td>\n",
       "      <td>-2.327129</td>\n",
       "    </tr>\n",
       "    <tr>\n",
       "      <th>3</th>\n",
       "      <td>2000-01-04</td>\n",
       "      <td>-2.702405</td>\n",
       "      <td>2.198315</td>\n",
       "      <td>-0.271546</td>\n",
       "      <td>-2.261686</td>\n",
       "    </tr>\n",
       "    <tr>\n",
       "      <th>4</th>\n",
       "      <td>2000-01-05</td>\n",
       "      <td>-2.694252</td>\n",
       "      <td>1.328207</td>\n",
       "      <td>0.264282</td>\n",
       "      <td>-2.853766</td>\n",
       "    </tr>\n",
       "    <tr>\n",
       "      <th>5</th>\n",
       "      <td>2000-01-06</td>\n",
       "      <td>-2.944262</td>\n",
       "      <td>2.302710</td>\n",
       "      <td>1.296458</td>\n",
       "      <td>-2.114969</td>\n",
       "    </tr>\n",
       "    <tr>\n",
       "      <th>6</th>\n",
       "      <td>2000-01-07</td>\n",
       "      <td>-1.634052</td>\n",
       "      <td>1.735131</td>\n",
       "      <td>1.821513</td>\n",
       "      <td>-2.334241</td>\n",
       "    </tr>\n",
       "    <tr>\n",
       "      <th>7</th>\n",
       "      <td>2000-01-08</td>\n",
       "      <td>-0.204116</td>\n",
       "      <td>0.786764</td>\n",
       "      <td>3.110553</td>\n",
       "      <td>-3.158651</td>\n",
       "    </tr>\n",
       "    <tr>\n",
       "      <th>8</th>\n",
       "      <td>2000-01-09</td>\n",
       "      <td>0.066233</td>\n",
       "      <td>0.085942</td>\n",
       "      <td>3.544890</td>\n",
       "      <td>-1.528623</td>\n",
       "    </tr>\n",
       "    <tr>\n",
       "      <th>9</th>\n",
       "      <td>2000-01-10</td>\n",
       "      <td>1.013136</td>\n",
       "      <td>-0.127689</td>\n",
       "      <td>3.243916</td>\n",
       "      <td>-1.302913</td>\n",
       "    </tr>\n",
       "    <tr>\n",
       "      <th>10</th>\n",
       "      <td>2000-01-11</td>\n",
       "      <td>0.025661</td>\n",
       "      <td>-0.149488</td>\n",
       "      <td>5.038708</td>\n",
       "      <td>-2.224213</td>\n",
       "    </tr>\n",
       "    <tr>\n",
       "      <th>11</th>\n",
       "      <td>2000-01-12</td>\n",
       "      <td>0.707614</td>\n",
       "      <td>1.754264</td>\n",
       "      <td>6.529286</td>\n",
       "      <td>-1.804020</td>\n",
       "    </tr>\n",
       "    <tr>\n",
       "      <th>12</th>\n",
       "      <td>2000-01-13</td>\n",
       "      <td>1.236839</td>\n",
       "      <td>4.051864</td>\n",
       "      <td>8.236445</td>\n",
       "      <td>-1.069735</td>\n",
       "    </tr>\n",
       "    <tr>\n",
       "      <th>13</th>\n",
       "      <td>2000-01-14</td>\n",
       "      <td>1.449498</td>\n",
       "      <td>4.776706</td>\n",
       "      <td>7.931186</td>\n",
       "      <td>-3.429088</td>\n",
       "    </tr>\n",
       "    <tr>\n",
       "      <th>14</th>\n",
       "      <td>2000-01-15</td>\n",
       "      <td>0.419769</td>\n",
       "      <td>4.364753</td>\n",
       "      <td>8.576868</td>\n",
       "      <td>-1.833168</td>\n",
       "    </tr>\n",
       "    <tr>\n",
       "      <th>15</th>\n",
       "      <td>2000-01-16</td>\n",
       "      <td>0.979582</td>\n",
       "      <td>4.493978</td>\n",
       "      <td>8.216319</td>\n",
       "      <td>-3.052759</td>\n",
       "    </tr>\n",
       "    <tr>\n",
       "      <th>16</th>\n",
       "      <td>2000-01-17</td>\n",
       "      <td>0.310275</td>\n",
       "      <td>3.886899</td>\n",
       "      <td>6.138584</td>\n",
       "      <td>-1.970795</td>\n",
       "    </tr>\n",
       "    <tr>\n",
       "      <th>17</th>\n",
       "      <td>2000-01-18</td>\n",
       "      <td>-0.137553</td>\n",
       "      <td>2.890292</td>\n",
       "      <td>5.910607</td>\n",
       "      <td>-1.663471</td>\n",
       "    </tr>\n",
       "    <tr>\n",
       "      <th>18</th>\n",
       "      <td>2000-01-19</td>\n",
       "      <td>-1.302307</td>\n",
       "      <td>4.306507</td>\n",
       "      <td>4.680357</td>\n",
       "      <td>-1.412424</td>\n",
       "    </tr>\n",
       "    <tr>\n",
       "      <th>19</th>\n",
       "      <td>2000-01-20</td>\n",
       "      <td>-2.725564</td>\n",
       "      <td>5.646009</td>\n",
       "      <td>4.308549</td>\n",
       "      <td>0.529492</td>\n",
       "    </tr>\n",
       "    <tr>\n",
       "      <th>20</th>\n",
       "      <td>2000-01-21</td>\n",
       "      <td>-2.231383</td>\n",
       "      <td>5.423495</td>\n",
       "      <td>3.992472</td>\n",
       "      <td>1.600523</td>\n",
       "    </tr>\n",
       "    <tr>\n",
       "      <th>21</th>\n",
       "      <td>2000-01-22</td>\n",
       "      <td>-1.150361</td>\n",
       "      <td>5.839849</td>\n",
       "      <td>5.103716</td>\n",
       "      <td>2.488219</td>\n",
       "    </tr>\n",
       "    <tr>\n",
       "      <th>22</th>\n",
       "      <td>2000-01-23</td>\n",
       "      <td>-2.061876</td>\n",
       "      <td>5.820877</td>\n",
       "      <td>4.944219</td>\n",
       "      <td>4.677182</td>\n",
       "    </tr>\n",
       "    <tr>\n",
       "      <th>23</th>\n",
       "      <td>2000-01-24</td>\n",
       "      <td>-3.293381</td>\n",
       "      <td>4.685845</td>\n",
       "      <td>4.996349</td>\n",
       "      <td>5.518561</td>\n",
       "    </tr>\n",
       "    <tr>\n",
       "      <th>24</th>\n",
       "      <td>2000-01-25</td>\n",
       "      <td>-2.868070</td>\n",
       "      <td>3.872540</td>\n",
       "      <td>3.736761</td>\n",
       "      <td>6.328569</td>\n",
       "    </tr>\n",
       "    <tr>\n",
       "      <th>25</th>\n",
       "      <td>2000-01-26</td>\n",
       "      <td>-2.430011</td>\n",
       "      <td>3.776625</td>\n",
       "      <td>3.496648</td>\n",
       "      <td>5.322579</td>\n",
       "    </tr>\n",
       "    <tr>\n",
       "      <th>26</th>\n",
       "      <td>2000-01-27</td>\n",
       "      <td>-1.189890</td>\n",
       "      <td>4.336777</td>\n",
       "      <td>2.854152</td>\n",
       "      <td>3.914627</td>\n",
       "    </tr>\n",
       "    <tr>\n",
       "      <th>27</th>\n",
       "      <td>2000-01-28</td>\n",
       "      <td>0.685373</td>\n",
       "      <td>4.025886</td>\n",
       "      <td>4.009345</td>\n",
       "      <td>3.280067</td>\n",
       "    </tr>\n",
       "    <tr>\n",
       "      <th>28</th>\n",
       "      <td>2000-01-29</td>\n",
       "      <td>0.579780</td>\n",
       "      <td>4.815814</td>\n",
       "      <td>5.466268</td>\n",
       "      <td>2.523527</td>\n",
       "    </tr>\n",
       "    <tr>\n",
       "      <th>29</th>\n",
       "      <td>2000-01-30</td>\n",
       "      <td>1.332268</td>\n",
       "      <td>3.700875</td>\n",
       "      <td>5.384968</td>\n",
       "      <td>3.611034</td>\n",
       "    </tr>\n",
       "    <tr>\n",
       "      <th>...</th>\n",
       "      <td>...</td>\n",
       "      <td>...</td>\n",
       "      <td>...</td>\n",
       "      <td>...</td>\n",
       "      <td>...</td>\n",
       "    </tr>\n",
       "    <tr>\n",
       "      <th>970</th>\n",
       "      <td>2002-08-28</td>\n",
       "      <td>-23.744142</td>\n",
       "      <td>-11.683603</td>\n",
       "      <td>54.158422</td>\n",
       "      <td>18.301969</td>\n",
       "    </tr>\n",
       "    <tr>\n",
       "      <th>971</th>\n",
       "      <td>2002-08-29</td>\n",
       "      <td>-24.838703</td>\n",
       "      <td>-11.756401</td>\n",
       "      <td>54.323053</td>\n",
       "      <td>18.899219</td>\n",
       "    </tr>\n",
       "    <tr>\n",
       "      <th>972</th>\n",
       "      <td>2002-08-30</td>\n",
       "      <td>-25.914318</td>\n",
       "      <td>-12.425043</td>\n",
       "      <td>54.063083</td>\n",
       "      <td>20.350195</td>\n",
       "    </tr>\n",
       "    <tr>\n",
       "      <th>973</th>\n",
       "      <td>2002-08-31</td>\n",
       "      <td>-26.049534</td>\n",
       "      <td>-12.278081</td>\n",
       "      <td>52.558246</td>\n",
       "      <td>20.739014</td>\n",
       "    </tr>\n",
       "    <tr>\n",
       "      <th>974</th>\n",
       "      <td>2002-09-01</td>\n",
       "      <td>-25.455214</td>\n",
       "      <td>-12.825172</td>\n",
       "      <td>53.281555</td>\n",
       "      <td>22.123640</td>\n",
       "    </tr>\n",
       "    <tr>\n",
       "      <th>975</th>\n",
       "      <td>2002-09-02</td>\n",
       "      <td>-25.406392</td>\n",
       "      <td>-11.783515</td>\n",
       "      <td>52.822283</td>\n",
       "      <td>21.650452</td>\n",
       "    </tr>\n",
       "    <tr>\n",
       "      <th>976</th>\n",
       "      <td>2002-09-03</td>\n",
       "      <td>-23.557903</td>\n",
       "      <td>-10.898145</td>\n",
       "      <td>53.911603</td>\n",
       "      <td>22.443103</td>\n",
       "    </tr>\n",
       "    <tr>\n",
       "      <th>977</th>\n",
       "      <td>2002-09-04</td>\n",
       "      <td>-22.341481</td>\n",
       "      <td>-10.246588</td>\n",
       "      <td>53.923627</td>\n",
       "      <td>22.581867</td>\n",
       "    </tr>\n",
       "    <tr>\n",
       "      <th>978</th>\n",
       "      <td>2002-09-05</td>\n",
       "      <td>-23.896069</td>\n",
       "      <td>-9.683124</td>\n",
       "      <td>54.378611</td>\n",
       "      <td>23.920015</td>\n",
       "    </tr>\n",
       "    <tr>\n",
       "      <th>979</th>\n",
       "      <td>2002-09-06</td>\n",
       "      <td>-24.535410</td>\n",
       "      <td>-9.329839</td>\n",
       "      <td>52.948911</td>\n",
       "      <td>21.861630</td>\n",
       "    </tr>\n",
       "    <tr>\n",
       "      <th>980</th>\n",
       "      <td>2002-09-07</td>\n",
       "      <td>-25.983052</td>\n",
       "      <td>-7.183550</td>\n",
       "      <td>53.900174</td>\n",
       "      <td>21.031578</td>\n",
       "    </tr>\n",
       "    <tr>\n",
       "      <th>981</th>\n",
       "      <td>2002-09-08</td>\n",
       "      <td>-24.731009</td>\n",
       "      <td>-7.586506</td>\n",
       "      <td>55.543600</td>\n",
       "      <td>20.917080</td>\n",
       "    </tr>\n",
       "    <tr>\n",
       "      <th>982</th>\n",
       "      <td>2002-09-09</td>\n",
       "      <td>-24.744005</td>\n",
       "      <td>-9.207846</td>\n",
       "      <td>53.690625</td>\n",
       "      <td>20.105033</td>\n",
       "    </tr>\n",
       "    <tr>\n",
       "      <th>983</th>\n",
       "      <td>2002-09-10</td>\n",
       "      <td>-25.085601</td>\n",
       "      <td>-7.519368</td>\n",
       "      <td>54.528041</td>\n",
       "      <td>19.430652</td>\n",
       "    </tr>\n",
       "    <tr>\n",
       "      <th>984</th>\n",
       "      <td>2002-09-11</td>\n",
       "      <td>-23.769853</td>\n",
       "      <td>-8.363727</td>\n",
       "      <td>53.398266</td>\n",
       "      <td>18.168328</td>\n",
       "    </tr>\n",
       "    <tr>\n",
       "      <th>985</th>\n",
       "      <td>2002-09-12</td>\n",
       "      <td>-23.423523</td>\n",
       "      <td>-8.034563</td>\n",
       "      <td>53.564282</td>\n",
       "      <td>17.330864</td>\n",
       "    </tr>\n",
       "    <tr>\n",
       "      <th>986</th>\n",
       "      <td>2002-09-13</td>\n",
       "      <td>-23.267153</td>\n",
       "      <td>-9.505810</td>\n",
       "      <td>54.645465</td>\n",
       "      <td>16.767815</td>\n",
       "    </tr>\n",
       "    <tr>\n",
       "      <th>987</th>\n",
       "      <td>2002-09-14</td>\n",
       "      <td>-22.889550</td>\n",
       "      <td>-8.099475</td>\n",
       "      <td>54.575842</td>\n",
       "      <td>13.914361</td>\n",
       "    </tr>\n",
       "    <tr>\n",
       "      <th>988</th>\n",
       "      <td>2002-09-15</td>\n",
       "      <td>-23.473827</td>\n",
       "      <td>-7.793747</td>\n",
       "      <td>55.678892</td>\n",
       "      <td>12.558826</td>\n",
       "    </tr>\n",
       "    <tr>\n",
       "      <th>989</th>\n",
       "      <td>2002-09-16</td>\n",
       "      <td>-24.282341</td>\n",
       "      <td>-7.350300</td>\n",
       "      <td>55.771043</td>\n",
       "      <td>12.661369</td>\n",
       "    </tr>\n",
       "    <tr>\n",
       "      <th>990</th>\n",
       "      <td>2002-09-17</td>\n",
       "      <td>-23.067303</td>\n",
       "      <td>-5.592417</td>\n",
       "      <td>56.099098</td>\n",
       "      <td>13.890904</td>\n",
       "    </tr>\n",
       "    <tr>\n",
       "      <th>991</th>\n",
       "      <td>2002-09-18</td>\n",
       "      <td>-24.603398</td>\n",
       "      <td>-4.280274</td>\n",
       "      <td>56.340604</td>\n",
       "      <td>13.963186</td>\n",
       "    </tr>\n",
       "    <tr>\n",
       "      <th>992</th>\n",
       "      <td>2002-09-19</td>\n",
       "      <td>-25.202295</td>\n",
       "      <td>-3.741501</td>\n",
       "      <td>54.384615</td>\n",
       "      <td>14.665413</td>\n",
       "    </tr>\n",
       "    <tr>\n",
       "      <th>993</th>\n",
       "      <td>2002-09-20</td>\n",
       "      <td>-24.540488</td>\n",
       "      <td>-2.915391</td>\n",
       "      <td>54.517278</td>\n",
       "      <td>16.371744</td>\n",
       "    </tr>\n",
       "    <tr>\n",
       "      <th>994</th>\n",
       "      <td>2002-09-21</td>\n",
       "      <td>-25.517155</td>\n",
       "      <td>-5.212941</td>\n",
       "      <td>54.366145</td>\n",
       "      <td>14.464737</td>\n",
       "    </tr>\n",
       "    <tr>\n",
       "      <th>995</th>\n",
       "      <td>2002-09-22</td>\n",
       "      <td>-24.646128</td>\n",
       "      <td>-5.876798</td>\n",
       "      <td>55.102300</td>\n",
       "      <td>15.221225</td>\n",
       "    </tr>\n",
       "    <tr>\n",
       "      <th>996</th>\n",
       "      <td>2002-09-23</td>\n",
       "      <td>-25.844737</td>\n",
       "      <td>-4.588979</td>\n",
       "      <td>54.212862</td>\n",
       "      <td>14.520892</td>\n",
       "    </tr>\n",
       "    <tr>\n",
       "      <th>997</th>\n",
       "      <td>2002-09-24</td>\n",
       "      <td>-25.056264</td>\n",
       "      <td>-5.062139</td>\n",
       "      <td>53.416618</td>\n",
       "      <td>13.412207</td>\n",
       "    </tr>\n",
       "    <tr>\n",
       "      <th>998</th>\n",
       "      <td>2002-09-25</td>\n",
       "      <td>-25.369431</td>\n",
       "      <td>-5.558051</td>\n",
       "      <td>53.084803</td>\n",
       "      <td>12.657774</td>\n",
       "    </tr>\n",
       "    <tr>\n",
       "      <th>999</th>\n",
       "      <td>2002-09-26</td>\n",
       "      <td>-25.496118</td>\n",
       "      <td>-5.851817</td>\n",
       "      <td>53.563586</td>\n",
       "      <td>12.154990</td>\n",
       "    </tr>\n",
       "  </tbody>\n",
       "</table>\n",
       "<p>1000 rows × 5 columns</p>\n",
       "</div>"
      ],
      "text/plain": [
       "     Unnamed: 0          A          B          C          D\n",
       "0    2000-01-01   0.644341  -0.533011  -0.117112  -0.512574\n",
       "1    2000-01-02  -0.359655  -0.145902  -1.500922  -1.249606\n",
       "2    2000-01-03  -1.755126   1.520461  -1.803988  -2.327129\n",
       "3    2000-01-04  -2.702405   2.198315  -0.271546  -2.261686\n",
       "4    2000-01-05  -2.694252   1.328207   0.264282  -2.853766\n",
       "5    2000-01-06  -2.944262   2.302710   1.296458  -2.114969\n",
       "6    2000-01-07  -1.634052   1.735131   1.821513  -2.334241\n",
       "7    2000-01-08  -0.204116   0.786764   3.110553  -3.158651\n",
       "8    2000-01-09   0.066233   0.085942   3.544890  -1.528623\n",
       "9    2000-01-10   1.013136  -0.127689   3.243916  -1.302913\n",
       "10   2000-01-11   0.025661  -0.149488   5.038708  -2.224213\n",
       "11   2000-01-12   0.707614   1.754264   6.529286  -1.804020\n",
       "12   2000-01-13   1.236839   4.051864   8.236445  -1.069735\n",
       "13   2000-01-14   1.449498   4.776706   7.931186  -3.429088\n",
       "14   2000-01-15   0.419769   4.364753   8.576868  -1.833168\n",
       "15   2000-01-16   0.979582   4.493978   8.216319  -3.052759\n",
       "16   2000-01-17   0.310275   3.886899   6.138584  -1.970795\n",
       "17   2000-01-18  -0.137553   2.890292   5.910607  -1.663471\n",
       "18   2000-01-19  -1.302307   4.306507   4.680357  -1.412424\n",
       "19   2000-01-20  -2.725564   5.646009   4.308549   0.529492\n",
       "20   2000-01-21  -2.231383   5.423495   3.992472   1.600523\n",
       "21   2000-01-22  -1.150361   5.839849   5.103716   2.488219\n",
       "22   2000-01-23  -2.061876   5.820877   4.944219   4.677182\n",
       "23   2000-01-24  -3.293381   4.685845   4.996349   5.518561\n",
       "24   2000-01-25  -2.868070   3.872540   3.736761   6.328569\n",
       "25   2000-01-26  -2.430011   3.776625   3.496648   5.322579\n",
       "26   2000-01-27  -1.189890   4.336777   2.854152   3.914627\n",
       "27   2000-01-28   0.685373   4.025886   4.009345   3.280067\n",
       "28   2000-01-29   0.579780   4.815814   5.466268   2.523527\n",
       "29   2000-01-30   1.332268   3.700875   5.384968   3.611034\n",
       "..          ...        ...        ...        ...        ...\n",
       "970  2002-08-28 -23.744142 -11.683603  54.158422  18.301969\n",
       "971  2002-08-29 -24.838703 -11.756401  54.323053  18.899219\n",
       "972  2002-08-30 -25.914318 -12.425043  54.063083  20.350195\n",
       "973  2002-08-31 -26.049534 -12.278081  52.558246  20.739014\n",
       "974  2002-09-01 -25.455214 -12.825172  53.281555  22.123640\n",
       "975  2002-09-02 -25.406392 -11.783515  52.822283  21.650452\n",
       "976  2002-09-03 -23.557903 -10.898145  53.911603  22.443103\n",
       "977  2002-09-04 -22.341481 -10.246588  53.923627  22.581867\n",
       "978  2002-09-05 -23.896069  -9.683124  54.378611  23.920015\n",
       "979  2002-09-06 -24.535410  -9.329839  52.948911  21.861630\n",
       "980  2002-09-07 -25.983052  -7.183550  53.900174  21.031578\n",
       "981  2002-09-08 -24.731009  -7.586506  55.543600  20.917080\n",
       "982  2002-09-09 -24.744005  -9.207846  53.690625  20.105033\n",
       "983  2002-09-10 -25.085601  -7.519368  54.528041  19.430652\n",
       "984  2002-09-11 -23.769853  -8.363727  53.398266  18.168328\n",
       "985  2002-09-12 -23.423523  -8.034563  53.564282  17.330864\n",
       "986  2002-09-13 -23.267153  -9.505810  54.645465  16.767815\n",
       "987  2002-09-14 -22.889550  -8.099475  54.575842  13.914361\n",
       "988  2002-09-15 -23.473827  -7.793747  55.678892  12.558826\n",
       "989  2002-09-16 -24.282341  -7.350300  55.771043  12.661369\n",
       "990  2002-09-17 -23.067303  -5.592417  56.099098  13.890904\n",
       "991  2002-09-18 -24.603398  -4.280274  56.340604  13.963186\n",
       "992  2002-09-19 -25.202295  -3.741501  54.384615  14.665413\n",
       "993  2002-09-20 -24.540488  -2.915391  54.517278  16.371744\n",
       "994  2002-09-21 -25.517155  -5.212941  54.366145  14.464737\n",
       "995  2002-09-22 -24.646128  -5.876798  55.102300  15.221225\n",
       "996  2002-09-23 -25.844737  -4.588979  54.212862  14.520892\n",
       "997  2002-09-24 -25.056264  -5.062139  53.416618  13.412207\n",
       "998  2002-09-25 -25.369431  -5.558051  53.084803  12.657774\n",
       "999  2002-09-26 -25.496118  -5.851817  53.563586  12.154990\n",
       "\n",
       "[1000 rows x 5 columns]"
      ]
     },
     "execution_count": 130,
     "metadata": {},
     "output_type": "execute_result"
    }
   ],
   "source": [
    "df.to_csv('foo.csv')\n",
    "pd.read_csv('foo.csv')"
   ]
  },
  {
   "cell_type": "code",
   "execution_count": 131,
   "metadata": {
    "collapsed": false
   },
   "outputs": [
    {
     "data": {
      "text/html": [
       "<div>\n",
       "<table border=\"1\" class=\"dataframe\">\n",
       "  <thead>\n",
       "    <tr style=\"text-align: right;\">\n",
       "      <th></th>\n",
       "      <th>A</th>\n",
       "      <th>B</th>\n",
       "      <th>C</th>\n",
       "      <th>D</th>\n",
       "    </tr>\n",
       "  </thead>\n",
       "  <tbody>\n",
       "    <tr>\n",
       "      <th>2000-01-01</th>\n",
       "      <td>0.644341</td>\n",
       "      <td>-0.533011</td>\n",
       "      <td>-0.117112</td>\n",
       "      <td>-0.512574</td>\n",
       "    </tr>\n",
       "    <tr>\n",
       "      <th>2000-01-02</th>\n",
       "      <td>-0.359655</td>\n",
       "      <td>-0.145902</td>\n",
       "      <td>-1.500922</td>\n",
       "      <td>-1.249606</td>\n",
       "    </tr>\n",
       "    <tr>\n",
       "      <th>2000-01-03</th>\n",
       "      <td>-1.755126</td>\n",
       "      <td>1.520461</td>\n",
       "      <td>-1.803988</td>\n",
       "      <td>-2.327129</td>\n",
       "    </tr>\n",
       "    <tr>\n",
       "      <th>2000-01-04</th>\n",
       "      <td>-2.702405</td>\n",
       "      <td>2.198315</td>\n",
       "      <td>-0.271546</td>\n",
       "      <td>-2.261686</td>\n",
       "    </tr>\n",
       "    <tr>\n",
       "      <th>2000-01-05</th>\n",
       "      <td>-2.694252</td>\n",
       "      <td>1.328207</td>\n",
       "      <td>0.264282</td>\n",
       "      <td>-2.853766</td>\n",
       "    </tr>\n",
       "    <tr>\n",
       "      <th>2000-01-06</th>\n",
       "      <td>-2.944262</td>\n",
       "      <td>2.302710</td>\n",
       "      <td>1.296458</td>\n",
       "      <td>-2.114969</td>\n",
       "    </tr>\n",
       "    <tr>\n",
       "      <th>2000-01-07</th>\n",
       "      <td>-1.634052</td>\n",
       "      <td>1.735131</td>\n",
       "      <td>1.821513</td>\n",
       "      <td>-2.334241</td>\n",
       "    </tr>\n",
       "    <tr>\n",
       "      <th>2000-01-08</th>\n",
       "      <td>-0.204116</td>\n",
       "      <td>0.786764</td>\n",
       "      <td>3.110553</td>\n",
       "      <td>-3.158651</td>\n",
       "    </tr>\n",
       "    <tr>\n",
       "      <th>2000-01-09</th>\n",
       "      <td>0.066233</td>\n",
       "      <td>0.085942</td>\n",
       "      <td>3.544890</td>\n",
       "      <td>-1.528623</td>\n",
       "    </tr>\n",
       "    <tr>\n",
       "      <th>2000-01-10</th>\n",
       "      <td>1.013136</td>\n",
       "      <td>-0.127689</td>\n",
       "      <td>3.243916</td>\n",
       "      <td>-1.302913</td>\n",
       "    </tr>\n",
       "    <tr>\n",
       "      <th>2000-01-11</th>\n",
       "      <td>0.025661</td>\n",
       "      <td>-0.149488</td>\n",
       "      <td>5.038708</td>\n",
       "      <td>-2.224213</td>\n",
       "    </tr>\n",
       "    <tr>\n",
       "      <th>2000-01-12</th>\n",
       "      <td>0.707614</td>\n",
       "      <td>1.754264</td>\n",
       "      <td>6.529286</td>\n",
       "      <td>-1.804020</td>\n",
       "    </tr>\n",
       "    <tr>\n",
       "      <th>2000-01-13</th>\n",
       "      <td>1.236839</td>\n",
       "      <td>4.051864</td>\n",
       "      <td>8.236445</td>\n",
       "      <td>-1.069735</td>\n",
       "    </tr>\n",
       "    <tr>\n",
       "      <th>2000-01-14</th>\n",
       "      <td>1.449498</td>\n",
       "      <td>4.776706</td>\n",
       "      <td>7.931186</td>\n",
       "      <td>-3.429088</td>\n",
       "    </tr>\n",
       "    <tr>\n",
       "      <th>2000-01-15</th>\n",
       "      <td>0.419769</td>\n",
       "      <td>4.364753</td>\n",
       "      <td>8.576868</td>\n",
       "      <td>-1.833168</td>\n",
       "    </tr>\n",
       "    <tr>\n",
       "      <th>2000-01-16</th>\n",
       "      <td>0.979582</td>\n",
       "      <td>4.493978</td>\n",
       "      <td>8.216319</td>\n",
       "      <td>-3.052759</td>\n",
       "    </tr>\n",
       "    <tr>\n",
       "      <th>2000-01-17</th>\n",
       "      <td>0.310275</td>\n",
       "      <td>3.886899</td>\n",
       "      <td>6.138584</td>\n",
       "      <td>-1.970795</td>\n",
       "    </tr>\n",
       "    <tr>\n",
       "      <th>2000-01-18</th>\n",
       "      <td>-0.137553</td>\n",
       "      <td>2.890292</td>\n",
       "      <td>5.910607</td>\n",
       "      <td>-1.663471</td>\n",
       "    </tr>\n",
       "    <tr>\n",
       "      <th>2000-01-19</th>\n",
       "      <td>-1.302307</td>\n",
       "      <td>4.306507</td>\n",
       "      <td>4.680357</td>\n",
       "      <td>-1.412424</td>\n",
       "    </tr>\n",
       "    <tr>\n",
       "      <th>2000-01-20</th>\n",
       "      <td>-2.725564</td>\n",
       "      <td>5.646009</td>\n",
       "      <td>4.308549</td>\n",
       "      <td>0.529492</td>\n",
       "    </tr>\n",
       "    <tr>\n",
       "      <th>2000-01-21</th>\n",
       "      <td>-2.231383</td>\n",
       "      <td>5.423495</td>\n",
       "      <td>3.992472</td>\n",
       "      <td>1.600523</td>\n",
       "    </tr>\n",
       "    <tr>\n",
       "      <th>2000-01-22</th>\n",
       "      <td>-1.150361</td>\n",
       "      <td>5.839849</td>\n",
       "      <td>5.103716</td>\n",
       "      <td>2.488219</td>\n",
       "    </tr>\n",
       "    <tr>\n",
       "      <th>2000-01-23</th>\n",
       "      <td>-2.061876</td>\n",
       "      <td>5.820877</td>\n",
       "      <td>4.944219</td>\n",
       "      <td>4.677182</td>\n",
       "    </tr>\n",
       "    <tr>\n",
       "      <th>2000-01-24</th>\n",
       "      <td>-3.293381</td>\n",
       "      <td>4.685845</td>\n",
       "      <td>4.996349</td>\n",
       "      <td>5.518561</td>\n",
       "    </tr>\n",
       "    <tr>\n",
       "      <th>2000-01-25</th>\n",
       "      <td>-2.868070</td>\n",
       "      <td>3.872540</td>\n",
       "      <td>3.736761</td>\n",
       "      <td>6.328569</td>\n",
       "    </tr>\n",
       "    <tr>\n",
       "      <th>2000-01-26</th>\n",
       "      <td>-2.430011</td>\n",
       "      <td>3.776625</td>\n",
       "      <td>3.496648</td>\n",
       "      <td>5.322579</td>\n",
       "    </tr>\n",
       "    <tr>\n",
       "      <th>2000-01-27</th>\n",
       "      <td>-1.189890</td>\n",
       "      <td>4.336777</td>\n",
       "      <td>2.854152</td>\n",
       "      <td>3.914627</td>\n",
       "    </tr>\n",
       "    <tr>\n",
       "      <th>2000-01-28</th>\n",
       "      <td>0.685373</td>\n",
       "      <td>4.025886</td>\n",
       "      <td>4.009345</td>\n",
       "      <td>3.280067</td>\n",
       "    </tr>\n",
       "    <tr>\n",
       "      <th>2000-01-29</th>\n",
       "      <td>0.579780</td>\n",
       "      <td>4.815814</td>\n",
       "      <td>5.466268</td>\n",
       "      <td>2.523527</td>\n",
       "    </tr>\n",
       "    <tr>\n",
       "      <th>2000-01-30</th>\n",
       "      <td>1.332268</td>\n",
       "      <td>3.700875</td>\n",
       "      <td>5.384968</td>\n",
       "      <td>3.611034</td>\n",
       "    </tr>\n",
       "    <tr>\n",
       "      <th>...</th>\n",
       "      <td>...</td>\n",
       "      <td>...</td>\n",
       "      <td>...</td>\n",
       "      <td>...</td>\n",
       "    </tr>\n",
       "    <tr>\n",
       "      <th>2002-08-28</th>\n",
       "      <td>-23.744142</td>\n",
       "      <td>-11.683603</td>\n",
       "      <td>54.158422</td>\n",
       "      <td>18.301969</td>\n",
       "    </tr>\n",
       "    <tr>\n",
       "      <th>2002-08-29</th>\n",
       "      <td>-24.838703</td>\n",
       "      <td>-11.756401</td>\n",
       "      <td>54.323053</td>\n",
       "      <td>18.899219</td>\n",
       "    </tr>\n",
       "    <tr>\n",
       "      <th>2002-08-30</th>\n",
       "      <td>-25.914318</td>\n",
       "      <td>-12.425043</td>\n",
       "      <td>54.063083</td>\n",
       "      <td>20.350195</td>\n",
       "    </tr>\n",
       "    <tr>\n",
       "      <th>2002-08-31</th>\n",
       "      <td>-26.049534</td>\n",
       "      <td>-12.278081</td>\n",
       "      <td>52.558246</td>\n",
       "      <td>20.739014</td>\n",
       "    </tr>\n",
       "    <tr>\n",
       "      <th>2002-09-01</th>\n",
       "      <td>-25.455214</td>\n",
       "      <td>-12.825172</td>\n",
       "      <td>53.281555</td>\n",
       "      <td>22.123640</td>\n",
       "    </tr>\n",
       "    <tr>\n",
       "      <th>2002-09-02</th>\n",
       "      <td>-25.406392</td>\n",
       "      <td>-11.783515</td>\n",
       "      <td>52.822283</td>\n",
       "      <td>21.650452</td>\n",
       "    </tr>\n",
       "    <tr>\n",
       "      <th>2002-09-03</th>\n",
       "      <td>-23.557903</td>\n",
       "      <td>-10.898145</td>\n",
       "      <td>53.911603</td>\n",
       "      <td>22.443103</td>\n",
       "    </tr>\n",
       "    <tr>\n",
       "      <th>2002-09-04</th>\n",
       "      <td>-22.341481</td>\n",
       "      <td>-10.246588</td>\n",
       "      <td>53.923627</td>\n",
       "      <td>22.581867</td>\n",
       "    </tr>\n",
       "    <tr>\n",
       "      <th>2002-09-05</th>\n",
       "      <td>-23.896069</td>\n",
       "      <td>-9.683124</td>\n",
       "      <td>54.378611</td>\n",
       "      <td>23.920015</td>\n",
       "    </tr>\n",
       "    <tr>\n",
       "      <th>2002-09-06</th>\n",
       "      <td>-24.535410</td>\n",
       "      <td>-9.329839</td>\n",
       "      <td>52.948911</td>\n",
       "      <td>21.861630</td>\n",
       "    </tr>\n",
       "    <tr>\n",
       "      <th>2002-09-07</th>\n",
       "      <td>-25.983052</td>\n",
       "      <td>-7.183550</td>\n",
       "      <td>53.900174</td>\n",
       "      <td>21.031578</td>\n",
       "    </tr>\n",
       "    <tr>\n",
       "      <th>2002-09-08</th>\n",
       "      <td>-24.731009</td>\n",
       "      <td>-7.586506</td>\n",
       "      <td>55.543600</td>\n",
       "      <td>20.917080</td>\n",
       "    </tr>\n",
       "    <tr>\n",
       "      <th>2002-09-09</th>\n",
       "      <td>-24.744005</td>\n",
       "      <td>-9.207846</td>\n",
       "      <td>53.690625</td>\n",
       "      <td>20.105033</td>\n",
       "    </tr>\n",
       "    <tr>\n",
       "      <th>2002-09-10</th>\n",
       "      <td>-25.085601</td>\n",
       "      <td>-7.519368</td>\n",
       "      <td>54.528041</td>\n",
       "      <td>19.430652</td>\n",
       "    </tr>\n",
       "    <tr>\n",
       "      <th>2002-09-11</th>\n",
       "      <td>-23.769853</td>\n",
       "      <td>-8.363727</td>\n",
       "      <td>53.398266</td>\n",
       "      <td>18.168328</td>\n",
       "    </tr>\n",
       "    <tr>\n",
       "      <th>2002-09-12</th>\n",
       "      <td>-23.423523</td>\n",
       "      <td>-8.034563</td>\n",
       "      <td>53.564282</td>\n",
       "      <td>17.330864</td>\n",
       "    </tr>\n",
       "    <tr>\n",
       "      <th>2002-09-13</th>\n",
       "      <td>-23.267153</td>\n",
       "      <td>-9.505810</td>\n",
       "      <td>54.645465</td>\n",
       "      <td>16.767815</td>\n",
       "    </tr>\n",
       "    <tr>\n",
       "      <th>2002-09-14</th>\n",
       "      <td>-22.889550</td>\n",
       "      <td>-8.099475</td>\n",
       "      <td>54.575842</td>\n",
       "      <td>13.914361</td>\n",
       "    </tr>\n",
       "    <tr>\n",
       "      <th>2002-09-15</th>\n",
       "      <td>-23.473827</td>\n",
       "      <td>-7.793747</td>\n",
       "      <td>55.678892</td>\n",
       "      <td>12.558826</td>\n",
       "    </tr>\n",
       "    <tr>\n",
       "      <th>2002-09-16</th>\n",
       "      <td>-24.282341</td>\n",
       "      <td>-7.350300</td>\n",
       "      <td>55.771043</td>\n",
       "      <td>12.661369</td>\n",
       "    </tr>\n",
       "    <tr>\n",
       "      <th>2002-09-17</th>\n",
       "      <td>-23.067303</td>\n",
       "      <td>-5.592417</td>\n",
       "      <td>56.099098</td>\n",
       "      <td>13.890904</td>\n",
       "    </tr>\n",
       "    <tr>\n",
       "      <th>2002-09-18</th>\n",
       "      <td>-24.603398</td>\n",
       "      <td>-4.280274</td>\n",
       "      <td>56.340604</td>\n",
       "      <td>13.963186</td>\n",
       "    </tr>\n",
       "    <tr>\n",
       "      <th>2002-09-19</th>\n",
       "      <td>-25.202295</td>\n",
       "      <td>-3.741501</td>\n",
       "      <td>54.384615</td>\n",
       "      <td>14.665413</td>\n",
       "    </tr>\n",
       "    <tr>\n",
       "      <th>2002-09-20</th>\n",
       "      <td>-24.540488</td>\n",
       "      <td>-2.915391</td>\n",
       "      <td>54.517278</td>\n",
       "      <td>16.371744</td>\n",
       "    </tr>\n",
       "    <tr>\n",
       "      <th>2002-09-21</th>\n",
       "      <td>-25.517155</td>\n",
       "      <td>-5.212941</td>\n",
       "      <td>54.366145</td>\n",
       "      <td>14.464737</td>\n",
       "    </tr>\n",
       "    <tr>\n",
       "      <th>2002-09-22</th>\n",
       "      <td>-24.646128</td>\n",
       "      <td>-5.876798</td>\n",
       "      <td>55.102300</td>\n",
       "      <td>15.221225</td>\n",
       "    </tr>\n",
       "    <tr>\n",
       "      <th>2002-09-23</th>\n",
       "      <td>-25.844737</td>\n",
       "      <td>-4.588979</td>\n",
       "      <td>54.212862</td>\n",
       "      <td>14.520892</td>\n",
       "    </tr>\n",
       "    <tr>\n",
       "      <th>2002-09-24</th>\n",
       "      <td>-25.056264</td>\n",
       "      <td>-5.062139</td>\n",
       "      <td>53.416618</td>\n",
       "      <td>13.412207</td>\n",
       "    </tr>\n",
       "    <tr>\n",
       "      <th>2002-09-25</th>\n",
       "      <td>-25.369431</td>\n",
       "      <td>-5.558051</td>\n",
       "      <td>53.084803</td>\n",
       "      <td>12.657774</td>\n",
       "    </tr>\n",
       "    <tr>\n",
       "      <th>2002-09-26</th>\n",
       "      <td>-25.496118</td>\n",
       "      <td>-5.851817</td>\n",
       "      <td>53.563586</td>\n",
       "      <td>12.154990</td>\n",
       "    </tr>\n",
       "  </tbody>\n",
       "</table>\n",
       "<p>1000 rows × 4 columns</p>\n",
       "</div>"
      ],
      "text/plain": [
       "                    A          B          C          D\n",
       "2000-01-01   0.644341  -0.533011  -0.117112  -0.512574\n",
       "2000-01-02  -0.359655  -0.145902  -1.500922  -1.249606\n",
       "2000-01-03  -1.755126   1.520461  -1.803988  -2.327129\n",
       "2000-01-04  -2.702405   2.198315  -0.271546  -2.261686\n",
       "2000-01-05  -2.694252   1.328207   0.264282  -2.853766\n",
       "2000-01-06  -2.944262   2.302710   1.296458  -2.114969\n",
       "2000-01-07  -1.634052   1.735131   1.821513  -2.334241\n",
       "2000-01-08  -0.204116   0.786764   3.110553  -3.158651\n",
       "2000-01-09   0.066233   0.085942   3.544890  -1.528623\n",
       "2000-01-10   1.013136  -0.127689   3.243916  -1.302913\n",
       "2000-01-11   0.025661  -0.149488   5.038708  -2.224213\n",
       "2000-01-12   0.707614   1.754264   6.529286  -1.804020\n",
       "2000-01-13   1.236839   4.051864   8.236445  -1.069735\n",
       "2000-01-14   1.449498   4.776706   7.931186  -3.429088\n",
       "2000-01-15   0.419769   4.364753   8.576868  -1.833168\n",
       "2000-01-16   0.979582   4.493978   8.216319  -3.052759\n",
       "2000-01-17   0.310275   3.886899   6.138584  -1.970795\n",
       "2000-01-18  -0.137553   2.890292   5.910607  -1.663471\n",
       "2000-01-19  -1.302307   4.306507   4.680357  -1.412424\n",
       "2000-01-20  -2.725564   5.646009   4.308549   0.529492\n",
       "2000-01-21  -2.231383   5.423495   3.992472   1.600523\n",
       "2000-01-22  -1.150361   5.839849   5.103716   2.488219\n",
       "2000-01-23  -2.061876   5.820877   4.944219   4.677182\n",
       "2000-01-24  -3.293381   4.685845   4.996349   5.518561\n",
       "2000-01-25  -2.868070   3.872540   3.736761   6.328569\n",
       "2000-01-26  -2.430011   3.776625   3.496648   5.322579\n",
       "2000-01-27  -1.189890   4.336777   2.854152   3.914627\n",
       "2000-01-28   0.685373   4.025886   4.009345   3.280067\n",
       "2000-01-29   0.579780   4.815814   5.466268   2.523527\n",
       "2000-01-30   1.332268   3.700875   5.384968   3.611034\n",
       "...               ...        ...        ...        ...\n",
       "2002-08-28 -23.744142 -11.683603  54.158422  18.301969\n",
       "2002-08-29 -24.838703 -11.756401  54.323053  18.899219\n",
       "2002-08-30 -25.914318 -12.425043  54.063083  20.350195\n",
       "2002-08-31 -26.049534 -12.278081  52.558246  20.739014\n",
       "2002-09-01 -25.455214 -12.825172  53.281555  22.123640\n",
       "2002-09-02 -25.406392 -11.783515  52.822283  21.650452\n",
       "2002-09-03 -23.557903 -10.898145  53.911603  22.443103\n",
       "2002-09-04 -22.341481 -10.246588  53.923627  22.581867\n",
       "2002-09-05 -23.896069  -9.683124  54.378611  23.920015\n",
       "2002-09-06 -24.535410  -9.329839  52.948911  21.861630\n",
       "2002-09-07 -25.983052  -7.183550  53.900174  21.031578\n",
       "2002-09-08 -24.731009  -7.586506  55.543600  20.917080\n",
       "2002-09-09 -24.744005  -9.207846  53.690625  20.105033\n",
       "2002-09-10 -25.085601  -7.519368  54.528041  19.430652\n",
       "2002-09-11 -23.769853  -8.363727  53.398266  18.168328\n",
       "2002-09-12 -23.423523  -8.034563  53.564282  17.330864\n",
       "2002-09-13 -23.267153  -9.505810  54.645465  16.767815\n",
       "2002-09-14 -22.889550  -8.099475  54.575842  13.914361\n",
       "2002-09-15 -23.473827  -7.793747  55.678892  12.558826\n",
       "2002-09-16 -24.282341  -7.350300  55.771043  12.661369\n",
       "2002-09-17 -23.067303  -5.592417  56.099098  13.890904\n",
       "2002-09-18 -24.603398  -4.280274  56.340604  13.963186\n",
       "2002-09-19 -25.202295  -3.741501  54.384615  14.665413\n",
       "2002-09-20 -24.540488  -2.915391  54.517278  16.371744\n",
       "2002-09-21 -25.517155  -5.212941  54.366145  14.464737\n",
       "2002-09-22 -24.646128  -5.876798  55.102300  15.221225\n",
       "2002-09-23 -25.844737  -4.588979  54.212862  14.520892\n",
       "2002-09-24 -25.056264  -5.062139  53.416618  13.412207\n",
       "2002-09-25 -25.369431  -5.558051  53.084803  12.657774\n",
       "2002-09-26 -25.496118  -5.851817  53.563586  12.154990\n",
       "\n",
       "[1000 rows x 4 columns]"
      ]
     },
     "execution_count": 131,
     "metadata": {},
     "output_type": "execute_result"
    }
   ],
   "source": [
    "df.to_excel('foo.xlsx', sheet_name='Sheet1')\n",
    "pd.read_excel('foo.xlsx', 'Sheet1', index_col=None, na_values=['NA'])"
   ]
  },
  {
   "cell_type": "code",
   "execution_count": null,
   "metadata": {
    "collapsed": true
   },
   "outputs": [],
   "source": []
  }
 ],
 "metadata": {
  "anaconda-cloud": {},
  "kernelspec": {
   "display_name": "Python [default]",
   "language": "python",
   "name": "python3"
  },
  "language_info": {
   "codemirror_mode": {
    "name": "ipython",
    "version": 3
   },
   "file_extension": ".py",
   "mimetype": "text/x-python",
   "name": "python",
   "nbconvert_exporter": "python",
   "pygments_lexer": "ipython3",
   "version": "3.5.2"
  }
 },
 "nbformat": 4,
 "nbformat_minor": 1
}
